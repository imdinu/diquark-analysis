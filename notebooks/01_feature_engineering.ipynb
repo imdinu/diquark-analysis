{
 "cells": [
  {
   "cell_type": "code",
   "execution_count": 35,
   "metadata": {},
   "outputs": [],
   "source": [
    "import os\n",
    "\n",
    "import pandas as pd\n",
    "from tqdm import tqdm\n",
    "\n",
    "from diquark import DATA_KEYS, PATH_DICT, CROSS_SECTION_DICT\n",
    "from diquark.helpers import create_data_dict, get_col\n",
    "from diquark.load import read_jet_delphes, read_met_delphes\n",
    "from diquark.features import (\n",
    "    jet_multiplicity,\n",
    "    leading_jet_arr,\n",
    "    calculate_delta_r,\n",
    "    combined_invariant_mass,\n",
    "    three_jet_invariant_mass,\n",
    "    calculate_missing_transverse_energy,\n",
    "    missing_ET,\n",
    ")\n",
    "from diquark.plotting import make_histogram, make_histogram_with_double_gaussian_fit\n",
    "\n",
    "\n",
    "if os.getcwd().split(\"/\")[-1] == \"notebooks\":\n",
    "    os.chdir(\"..\")"
   ]
  },
  {
   "cell_type": "code",
   "execution_count": 37,
   "metadata": {},
   "outputs": [
    {
     "name": "stderr",
     "output_type": "stream",
     "text": [
      "  0%|          | 0/2 [00:43<?, ?it/s]\n",
      "100%|██████████| 2/2 [00:00<00:00,  6.67it/s]\n",
      "100%|██████████| 2/2 [00:00<00:00,  6.92it/s]\n"
     ]
    }
   ],
   "source": [
    "datasets = {key: read_jet_delphes(PATH_DICT[key]) for key in tqdm(DATA_KEYS)}\n",
    "datasets2 = {key2: read_met_delphes(PATH_DICT[key2]) for key2 in tqdm(DATA_KEYS)}\n"
   ]
  },
  {
   "cell_type": "code",
   "execution_count": 38,
   "metadata": {},
   "outputs": [
    {
     "name": "stderr",
     "output_type": "stream",
     "text": [
      "100%|██████████| 2/2 [00:00<00:00, 9532.51it/s]\n"
     ]
    }
   ],
   "source": [
    "jet_multiplicities = {key: jet_multiplicity(ds) for key, ds in tqdm(datasets.items())}"
   ]
  },
  {
   "cell_type": "code",
   "execution_count": 39,
   "metadata": {},
   "outputs": [
    {
     "name": "stderr",
     "output_type": "stream",
     "text": [
      "100%|██████████| 2/2 [00:00<00:00, 434.42it/s]\n",
      "100%|██████████| 2/2 [00:00<00:00, 466.50it/s]\n",
      "100%|██████████| 2/2 [00:00<00:00, 477.68it/s]\n"
     ]
    }
   ],
   "source": [
    "jet_pts = {key: leading_jet_arr(data, key=\"Jet/Jet.PT\") for key, data in tqdm(datasets.items())}\n",
    "jet_etas = {key: leading_jet_arr(data, key=\"Jet/Jet.Eta\") for key, data in tqdm(datasets.items())}\n",
    "jet_phis = {key: leading_jet_arr(data, key=\"Jet/Jet.Phi\") for key, data in tqdm(datasets.items())}"
   ]
  },
  {
   "cell_type": "code",
   "execution_count": 41,
   "metadata": {},
   "outputs": [
    {
     "name": "stderr",
     "output_type": "stream",
     "text": [
      "\n",
      "100%|██████████| 2/2 [00:00<00:00, 642.07it/s]\n"
     ]
    }
   ],
   "source": [
    "miss_MET = {key2: missing_ET(data2, key2=\"MissingET/MissingET.MET\") for key2, data2 in tqdm(datasets2.items())}"
   ]
  },
  {
   "cell_type": "code",
   "execution_count": 46,
   "metadata": {},
   "outputs": [
    {
     "name": "stderr",
     "output_type": "stream",
     "text": [
      "100%|██████████| 2/2 [00:00<00:00, 356.45it/s]\n"
     ]
    }
   ],
   "source": [
    "missing_energy = {} #key: calculate_missing_transverse_energy(px_miss, py_miss) for key, arr in tqdm(datasets.items())\n",
    "for key2, data2 in tqdm(datasets2.items()):\n",
    "    px_miss = missing_ET(data2, 4, key2=\"MissingET/MissingET.MET\")\n",
    "    py_miss = missing_ET(data2, 4, key2=\"MissingET/MissingET.MET\")\n",
    "    \n",
    "    missing_energy[key2] = calculate_missing_transverse_energy(px_miss, py_miss)\n"
   ]
  },
  {
   "cell_type": "code",
   "execution_count": 48,
   "metadata": {},
   "outputs": [
    {
     "name": "stderr",
     "output_type": "stream",
     "text": [
      "100%|██████████| 2/2 [00:00<00:00, 64.50it/s]\n"
     ]
    }
   ],
   "source": [
    "combined_masses = {key: combined_invariant_mass(arr) for key, arr in tqdm(datasets.items())}"
   ]
  },
  {
   "cell_type": "code",
   "execution_count": 49,
   "metadata": {},
   "outputs": [
    {
     "name": "stderr",
     "output_type": "stream",
     "text": [
      "100%|██████████| 2/2 [00:00<00:00, 47.37it/s]\n"
     ]
    }
   ],
   "source": [
    "delta_rs = {}\n",
    "for key, data in tqdm(datasets.items()):\n",
    "    etas = leading_jet_arr(data, 6, key=\"Jet/Jet.Eta\")\n",
    "    phis = leading_jet_arr(data, 6, key=\"Jet/Jet.Phi\")\n",
    "    pts = leading_jet_arr(data, 6, key=\"Jet/Jet.PT\")\n",
    "\n",
    "    delta_rs[key] = calculate_delta_r(etas, phis, pts)"
   ]
  },
  {
   "cell_type": "code",
   "execution_count": 50,
   "metadata": {},
   "outputs": [
    {
     "name": "stderr",
     "output_type": "stream",
     "text": [
      "100%|██████████| 2/2 [00:01<00:00,  1.02it/s]\n"
     ]
    }
   ],
   "source": [
    "m3j_s = {}\n",
    "for key, data in tqdm(datasets.items()):\n",
    "    m3j_s[key] = three_jet_invariant_mass(data)"
   ]
  },
  {
   "cell_type": "code",
   "execution_count": 51,
   "metadata": {},
   "outputs": [
    {
     "name": "stderr",
     "output_type": "stream",
     "text": [
      "  0%|          | 0/2 [07:13<?, ?it/s]\n"
     ]
    },
    {
     "data": {
      "application/vnd.plotly.v1+json": {
       "config": {
        "plotlyServerURL": "https://plot.ly"
       },
       "data": [
        {
         "marker": {
          "color": "#866609"
         },
         "name": "BKG:semilepto_test",
         "type": "bar",
         "x": [
          0,
          470.8564995835733,
          941.7129991671466,
          1412.56949875072,
          1883.4259983342931,
          2354.2824979178663,
          2825.13899750144,
          3295.995497085013,
          3766.8519966685863,
          4237.708496252159,
          4708.564995835733,
          5179.421495419306,
          5650.27799500288,
          6121.134494586453,
          6591.990994170026,
          7062.847493753599,
          7533.7039933371725,
          8004.560492920746,
          8475.416992504319,
          8946.273492087892,
          9417.129991671465
         ],
         "y": [
          0,
          0,
          0.0000036636,
          0.0000375519,
          0.000265611,
          0.000467109,
          0.0006731864999999999,
          0.0008847594,
          0.0010029105,
          0.0010761825,
          0.0010276398,
          0.0010193967,
          0.0008673573,
          0.0007281405,
          0.0005559512999999999,
          0.0003123219,
          0.0001703574,
          0.0000522063,
          0.0000137385,
          9.159e-7
         ]
        },
        {
         "marker": {
          "color": "#000000"
         },
         "name": "SIG:suu",
         "type": "bar",
         "x": [
          0,
          470.8564995835733,
          941.7129991671466,
          1412.56949875072,
          1883.4259983342931,
          2354.2824979178663,
          2825.13899750144,
          3295.995497085013,
          3766.8519966685863,
          4237.708496252159,
          4708.564995835733,
          5179.421495419306,
          5650.27799500288,
          6121.134494586453,
          6591.990994170026,
          7062.847493753599,
          7533.7039933371725,
          8004.560492920746,
          8475.416992504319,
          8946.273492087892,
          9417.129991671465
         ],
         "y": [
          0.4546691,
          0.02818014,
          0.00599996,
          0.00167212,
          0.00059016,
          0.00034426,
          0.00019672,
          0.00009836,
          0,
          0.00004918,
          0,
          0,
          0,
          0,
          0,
          0,
          0,
          0,
          0,
          0
         ]
        }
       ],
       "layout": {
        "bargap": 0,
        "barmode": "stack",
        "height": 600,
        "template": {
         "data": {
          "bar": [
           {
            "error_x": {
             "color": "#2a3f5f"
            },
            "error_y": {
             "color": "#2a3f5f"
            },
            "marker": {
             "line": {
              "color": "#E5ECF6",
              "width": 0.5
             },
             "pattern": {
              "fillmode": "overlay",
              "size": 10,
              "solidity": 0.2
             }
            },
            "type": "bar"
           }
          ],
          "barpolar": [
           {
            "marker": {
             "line": {
              "color": "#E5ECF6",
              "width": 0.5
             },
             "pattern": {
              "fillmode": "overlay",
              "size": 10,
              "solidity": 0.2
             }
            },
            "type": "barpolar"
           }
          ],
          "carpet": [
           {
            "aaxis": {
             "endlinecolor": "#2a3f5f",
             "gridcolor": "white",
             "linecolor": "white",
             "minorgridcolor": "white",
             "startlinecolor": "#2a3f5f"
            },
            "baxis": {
             "endlinecolor": "#2a3f5f",
             "gridcolor": "white",
             "linecolor": "white",
             "minorgridcolor": "white",
             "startlinecolor": "#2a3f5f"
            },
            "type": "carpet"
           }
          ],
          "choropleth": [
           {
            "colorbar": {
             "outlinewidth": 0,
             "ticks": ""
            },
            "type": "choropleth"
           }
          ],
          "contour": [
           {
            "colorbar": {
             "outlinewidth": 0,
             "ticks": ""
            },
            "colorscale": [
             [
              0,
              "#0d0887"
             ],
             [
              0.1111111111111111,
              "#46039f"
             ],
             [
              0.2222222222222222,
              "#7201a8"
             ],
             [
              0.3333333333333333,
              "#9c179e"
             ],
             [
              0.4444444444444444,
              "#bd3786"
             ],
             [
              0.5555555555555556,
              "#d8576b"
             ],
             [
              0.6666666666666666,
              "#ed7953"
             ],
             [
              0.7777777777777778,
              "#fb9f3a"
             ],
             [
              0.8888888888888888,
              "#fdca26"
             ],
             [
              1,
              "#f0f921"
             ]
            ],
            "type": "contour"
           }
          ],
          "contourcarpet": [
           {
            "colorbar": {
             "outlinewidth": 0,
             "ticks": ""
            },
            "type": "contourcarpet"
           }
          ],
          "heatmap": [
           {
            "colorbar": {
             "outlinewidth": 0,
             "ticks": ""
            },
            "colorscale": [
             [
              0,
              "#0d0887"
             ],
             [
              0.1111111111111111,
              "#46039f"
             ],
             [
              0.2222222222222222,
              "#7201a8"
             ],
             [
              0.3333333333333333,
              "#9c179e"
             ],
             [
              0.4444444444444444,
              "#bd3786"
             ],
             [
              0.5555555555555556,
              "#d8576b"
             ],
             [
              0.6666666666666666,
              "#ed7953"
             ],
             [
              0.7777777777777778,
              "#fb9f3a"
             ],
             [
              0.8888888888888888,
              "#fdca26"
             ],
             [
              1,
              "#f0f921"
             ]
            ],
            "type": "heatmap"
           }
          ],
          "heatmapgl": [
           {
            "colorbar": {
             "outlinewidth": 0,
             "ticks": ""
            },
            "colorscale": [
             [
              0,
              "#0d0887"
             ],
             [
              0.1111111111111111,
              "#46039f"
             ],
             [
              0.2222222222222222,
              "#7201a8"
             ],
             [
              0.3333333333333333,
              "#9c179e"
             ],
             [
              0.4444444444444444,
              "#bd3786"
             ],
             [
              0.5555555555555556,
              "#d8576b"
             ],
             [
              0.6666666666666666,
              "#ed7953"
             ],
             [
              0.7777777777777778,
              "#fb9f3a"
             ],
             [
              0.8888888888888888,
              "#fdca26"
             ],
             [
              1,
              "#f0f921"
             ]
            ],
            "type": "heatmapgl"
           }
          ],
          "histogram": [
           {
            "marker": {
             "pattern": {
              "fillmode": "overlay",
              "size": 10,
              "solidity": 0.2
             }
            },
            "type": "histogram"
           }
          ],
          "histogram2d": [
           {
            "colorbar": {
             "outlinewidth": 0,
             "ticks": ""
            },
            "colorscale": [
             [
              0,
              "#0d0887"
             ],
             [
              0.1111111111111111,
              "#46039f"
             ],
             [
              0.2222222222222222,
              "#7201a8"
             ],
             [
              0.3333333333333333,
              "#9c179e"
             ],
             [
              0.4444444444444444,
              "#bd3786"
             ],
             [
              0.5555555555555556,
              "#d8576b"
             ],
             [
              0.6666666666666666,
              "#ed7953"
             ],
             [
              0.7777777777777778,
              "#fb9f3a"
             ],
             [
              0.8888888888888888,
              "#fdca26"
             ],
             [
              1,
              "#f0f921"
             ]
            ],
            "type": "histogram2d"
           }
          ],
          "histogram2dcontour": [
           {
            "colorbar": {
             "outlinewidth": 0,
             "ticks": ""
            },
            "colorscale": [
             [
              0,
              "#0d0887"
             ],
             [
              0.1111111111111111,
              "#46039f"
             ],
             [
              0.2222222222222222,
              "#7201a8"
             ],
             [
              0.3333333333333333,
              "#9c179e"
             ],
             [
              0.4444444444444444,
              "#bd3786"
             ],
             [
              0.5555555555555556,
              "#d8576b"
             ],
             [
              0.6666666666666666,
              "#ed7953"
             ],
             [
              0.7777777777777778,
              "#fb9f3a"
             ],
             [
              0.8888888888888888,
              "#fdca26"
             ],
             [
              1,
              "#f0f921"
             ]
            ],
            "type": "histogram2dcontour"
           }
          ],
          "mesh3d": [
           {
            "colorbar": {
             "outlinewidth": 0,
             "ticks": ""
            },
            "type": "mesh3d"
           }
          ],
          "parcoords": [
           {
            "line": {
             "colorbar": {
              "outlinewidth": 0,
              "ticks": ""
             }
            },
            "type": "parcoords"
           }
          ],
          "pie": [
           {
            "automargin": true,
            "type": "pie"
           }
          ],
          "scatter": [
           {
            "fillpattern": {
             "fillmode": "overlay",
             "size": 10,
             "solidity": 0.2
            },
            "type": "scatter"
           }
          ],
          "scatter3d": [
           {
            "line": {
             "colorbar": {
              "outlinewidth": 0,
              "ticks": ""
             }
            },
            "marker": {
             "colorbar": {
              "outlinewidth": 0,
              "ticks": ""
             }
            },
            "type": "scatter3d"
           }
          ],
          "scattercarpet": [
           {
            "marker": {
             "colorbar": {
              "outlinewidth": 0,
              "ticks": ""
             }
            },
            "type": "scattercarpet"
           }
          ],
          "scattergeo": [
           {
            "marker": {
             "colorbar": {
              "outlinewidth": 0,
              "ticks": ""
             }
            },
            "type": "scattergeo"
           }
          ],
          "scattergl": [
           {
            "marker": {
             "colorbar": {
              "outlinewidth": 0,
              "ticks": ""
             }
            },
            "type": "scattergl"
           }
          ],
          "scattermapbox": [
           {
            "marker": {
             "colorbar": {
              "outlinewidth": 0,
              "ticks": ""
             }
            },
            "type": "scattermapbox"
           }
          ],
          "scatterpolar": [
           {
            "marker": {
             "colorbar": {
              "outlinewidth": 0,
              "ticks": ""
             }
            },
            "type": "scatterpolar"
           }
          ],
          "scatterpolargl": [
           {
            "marker": {
             "colorbar": {
              "outlinewidth": 0,
              "ticks": ""
             }
            },
            "type": "scatterpolargl"
           }
          ],
          "scatterternary": [
           {
            "marker": {
             "colorbar": {
              "outlinewidth": 0,
              "ticks": ""
             }
            },
            "type": "scatterternary"
           }
          ],
          "surface": [
           {
            "colorbar": {
             "outlinewidth": 0,
             "ticks": ""
            },
            "colorscale": [
             [
              0,
              "#0d0887"
             ],
             [
              0.1111111111111111,
              "#46039f"
             ],
             [
              0.2222222222222222,
              "#7201a8"
             ],
             [
              0.3333333333333333,
              "#9c179e"
             ],
             [
              0.4444444444444444,
              "#bd3786"
             ],
             [
              0.5555555555555556,
              "#d8576b"
             ],
             [
              0.6666666666666666,
              "#ed7953"
             ],
             [
              0.7777777777777778,
              "#fb9f3a"
             ],
             [
              0.8888888888888888,
              "#fdca26"
             ],
             [
              1,
              "#f0f921"
             ]
            ],
            "type": "surface"
           }
          ],
          "table": [
           {
            "cells": {
             "fill": {
              "color": "#EBF0F8"
             },
             "line": {
              "color": "white"
             }
            },
            "header": {
             "fill": {
              "color": "#C8D4E3"
             },
             "line": {
              "color": "white"
             }
            },
            "type": "table"
           }
          ]
         },
         "layout": {
          "annotationdefaults": {
           "arrowcolor": "#2a3f5f",
           "arrowhead": 0,
           "arrowwidth": 1
          },
          "autotypenumbers": "strict",
          "coloraxis": {
           "colorbar": {
            "outlinewidth": 0,
            "ticks": ""
           }
          },
          "colorscale": {
           "diverging": [
            [
             0,
             "#8e0152"
            ],
            [
             0.1,
             "#c51b7d"
            ],
            [
             0.2,
             "#de77ae"
            ],
            [
             0.3,
             "#f1b6da"
            ],
            [
             0.4,
             "#fde0ef"
            ],
            [
             0.5,
             "#f7f7f7"
            ],
            [
             0.6,
             "#e6f5d0"
            ],
            [
             0.7,
             "#b8e186"
            ],
            [
             0.8,
             "#7fbc41"
            ],
            [
             0.9,
             "#4d9221"
            ],
            [
             1,
             "#276419"
            ]
           ],
           "sequential": [
            [
             0,
             "#0d0887"
            ],
            [
             0.1111111111111111,
             "#46039f"
            ],
            [
             0.2222222222222222,
             "#7201a8"
            ],
            [
             0.3333333333333333,
             "#9c179e"
            ],
            [
             0.4444444444444444,
             "#bd3786"
            ],
            [
             0.5555555555555556,
             "#d8576b"
            ],
            [
             0.6666666666666666,
             "#ed7953"
            ],
            [
             0.7777777777777778,
             "#fb9f3a"
            ],
            [
             0.8888888888888888,
             "#fdca26"
            ],
            [
             1,
             "#f0f921"
            ]
           ],
           "sequentialminus": [
            [
             0,
             "#0d0887"
            ],
            [
             0.1111111111111111,
             "#46039f"
            ],
            [
             0.2222222222222222,
             "#7201a8"
            ],
            [
             0.3333333333333333,
             "#9c179e"
            ],
            [
             0.4444444444444444,
             "#bd3786"
            ],
            [
             0.5555555555555556,
             "#d8576b"
            ],
            [
             0.6666666666666666,
             "#ed7953"
            ],
            [
             0.7777777777777778,
             "#fb9f3a"
            ],
            [
             0.8888888888888888,
             "#fdca26"
            ],
            [
             1,
             "#f0f921"
            ]
           ]
          },
          "colorway": [
           "#636efa",
           "#EF553B",
           "#00cc96",
           "#ab63fa",
           "#FFA15A",
           "#19d3f3",
           "#FF6692",
           "#B6E880",
           "#FF97FF",
           "#FECB52"
          ],
          "font": {
           "color": "#2a3f5f"
          },
          "geo": {
           "bgcolor": "white",
           "lakecolor": "white",
           "landcolor": "#E5ECF6",
           "showlakes": true,
           "showland": true,
           "subunitcolor": "white"
          },
          "hoverlabel": {
           "align": "left"
          },
          "hovermode": "closest",
          "mapbox": {
           "style": "light"
          },
          "paper_bgcolor": "white",
          "plot_bgcolor": "#E5ECF6",
          "polar": {
           "angularaxis": {
            "gridcolor": "white",
            "linecolor": "white",
            "ticks": ""
           },
           "bgcolor": "#E5ECF6",
           "radialaxis": {
            "gridcolor": "white",
            "linecolor": "white",
            "ticks": ""
           }
          },
          "scene": {
           "xaxis": {
            "backgroundcolor": "#E5ECF6",
            "gridcolor": "white",
            "gridwidth": 2,
            "linecolor": "white",
            "showbackground": true,
            "ticks": "",
            "zerolinecolor": "white"
           },
           "yaxis": {
            "backgroundcolor": "#E5ECF6",
            "gridcolor": "white",
            "gridwidth": 2,
            "linecolor": "white",
            "showbackground": true,
            "ticks": "",
            "zerolinecolor": "white"
           },
           "zaxis": {
            "backgroundcolor": "#E5ECF6",
            "gridcolor": "white",
            "gridwidth": 2,
            "linecolor": "white",
            "showbackground": true,
            "ticks": "",
            "zerolinecolor": "white"
           }
          },
          "shapedefaults": {
           "line": {
            "color": "#2a3f5f"
           }
          },
          "ternary": {
           "aaxis": {
            "gridcolor": "white",
            "linecolor": "white",
            "ticks": ""
           },
           "baxis": {
            "gridcolor": "white",
            "linecolor": "white",
            "ticks": ""
           },
           "bgcolor": "#E5ECF6",
           "caxis": {
            "gridcolor": "white",
            "linecolor": "white",
            "ticks": ""
           }
          },
          "title": {
           "x": 0.05
          },
          "xaxis": {
           "automargin": true,
           "gridcolor": "white",
           "linecolor": "white",
           "ticks": "",
           "title": {
            "standoff": 15
           },
           "zerolinecolor": "white",
           "zerolinewidth": 2
          },
          "yaxis": {
           "automargin": true,
           "gridcolor": "white",
           "linecolor": "white",
           "ticks": "",
           "title": {
            "standoff": 15
           },
           "zerolinecolor": "white",
           "zerolinewidth": 2
          }
         }
        },
        "title": {
         "text": "6-jet Mass"
        },
        "width": 1066.6666666666665,
        "xaxis": {
         "range": [
          235.42824979178664,
          9652.558241463252
         ],
         "title": {
          "text": "Invariant Mass [GeV]"
         }
        },
        "yaxis": {
         "title": {
          "text": "count x sigma"
         },
         "type": "log"
        }
       }
      }
     },
     "metadata": {},
     "output_type": "display_data"
    },
    {
     "name": "stdout",
     "output_type": "stream",
     "text": [
      "[0.0, 9417.129991671465]\n"
     ]
    }
   ],
   "source": [
    "fig = make_histogram(combined_masses, 20, clip_top_prc=100)\n",
    "bin_width = fig.data[0].x[1] - fig.data[0].x[0]\n",
    "fig.update_layout(\n",
    "    title=\"6-jet Mass\",\n",
    "    xaxis_title=\"Invariant Mass [GeV]\",\n",
    "    yaxis_title_text=\"count x sigma\",\n",
    "    barmode=\"stack\",\n",
    "    bargap=0,\n",
    "    width=1600 * (2 / 3),\n",
    "    height=900 * (2 / 3),\n",
    "    # ignore first bin\n",
    "    xaxis_range=[fig.data[0].x[1] - bin_width / 2, fig.data[0].x[-1] + bin_width / 2],\n",
    "    yaxis_type=\"log\",\n",
    ")\n",
    "\n",
    "fig.show()\n",
    "print(\n",
    "    [fig.data[0].x[1] - bin_width, fig.data[0].x[-1]],\n",
    ")"
   ]
  },
  {
   "cell_type": "code",
   "execution_count": 52,
   "metadata": {},
   "outputs": [],
   "source": [
    "ds = create_data_dict(\n",
    "    **{\n",
    "        \"multiplicity\": jet_multiplicities,\n",
    "        \"delta_R\": delta_rs,\n",
    "        \"m3j\": m3j_s,\n",
    "        \"inv_mass\": combined_masses,\n",
    "        \"pt\": jet_pts,\n",
    "        \"eta\": jet_etas,\n",
    "        \"phi\": jet_phis,\n",
    "        \"mET\": missing_energy,\n",
    "    }\n",
    ")"
   ]
  },
  {
   "cell_type": "code",
   "execution_count": 53,
   "metadata": {},
   "outputs": [],
   "source": [
    "df = pd.DataFrame(ds)\n",
    "df[\"target\"] = df[\"Truth\"].apply(lambda x: 1 if \"SIG\" in x else 0)"
   ]
  },
  {
   "cell_type": "code",
   "execution_count": 54,
   "metadata": {},
   "outputs": [
    {
     "data": {
      "text/html": [
       "<div>\n",
       "<style scoped>\n",
       "    .dataframe tbody tr th:only-of-type {\n",
       "        vertical-align: middle;\n",
       "    }\n",
       "\n",
       "    .dataframe tbody tr th {\n",
       "        vertical-align: top;\n",
       "    }\n",
       "\n",
       "    .dataframe thead th {\n",
       "        text-align: right;\n",
       "    }\n",
       "</style>\n",
       "<table border=\"1\" class=\"dataframe\">\n",
       "  <thead>\n",
       "    <tr style=\"text-align: right;\">\n",
       "      <th></th>\n",
       "      <th>Truth</th>\n",
       "      <th>multiplicity</th>\n",
       "      <th>delta_R_1</th>\n",
       "      <th>delta_R_2</th>\n",
       "      <th>delta_R_3</th>\n",
       "      <th>delta_R_4</th>\n",
       "      <th>delta_R_5</th>\n",
       "      <th>delta_R_6</th>\n",
       "      <th>delta_R_7</th>\n",
       "      <th>delta_R_8</th>\n",
       "      <th>...</th>\n",
       "      <th>phi_2</th>\n",
       "      <th>phi_3</th>\n",
       "      <th>phi_4</th>\n",
       "      <th>phi_5</th>\n",
       "      <th>phi_6</th>\n",
       "      <th>mET_1</th>\n",
       "      <th>mET_2</th>\n",
       "      <th>mET_3</th>\n",
       "      <th>mET_4</th>\n",
       "      <th>target</th>\n",
       "    </tr>\n",
       "  </thead>\n",
       "  <tbody>\n",
       "    <tr>\n",
       "      <th>0</th>\n",
       "      <td>BKG:semilepto_test</td>\n",
       "      <td>7</td>\n",
       "      <td>0.0</td>\n",
       "      <td>1.616195</td>\n",
       "      <td>2.158732</td>\n",
       "      <td>2.158483</td>\n",
       "      <td>2.304399</td>\n",
       "      <td>0.735744</td>\n",
       "      <td>0.0</td>\n",
       "      <td>0.0</td>\n",
       "      <td>...</td>\n",
       "      <td>2.587464</td>\n",
       "      <td>2.895854</td>\n",
       "      <td>-0.808096</td>\n",
       "      <td>-1.254239</td>\n",
       "      <td>0.474848</td>\n",
       "      <td>1627.102595</td>\n",
       "      <td>0.0</td>\n",
       "      <td>0.0</td>\n",
       "      <td>0.0</td>\n",
       "      <td>0</td>\n",
       "    </tr>\n",
       "    <tr>\n",
       "      <th>1</th>\n",
       "      <td>BKG:semilepto_test</td>\n",
       "      <td>7</td>\n",
       "      <td>0.0</td>\n",
       "      <td>2.794346</td>\n",
       "      <td>3.630165</td>\n",
       "      <td>2.483253</td>\n",
       "      <td>1.819955</td>\n",
       "      <td>2.971050</td>\n",
       "      <td>0.0</td>\n",
       "      <td>0.0</td>\n",
       "      <td>...</td>\n",
       "      <td>-2.978855</td>\n",
       "      <td>2.746671</td>\n",
       "      <td>2.002219</td>\n",
       "      <td>-1.144244</td>\n",
       "      <td>2.155058</td>\n",
       "      <td>846.806205</td>\n",
       "      <td>0.0</td>\n",
       "      <td>0.0</td>\n",
       "      <td>0.0</td>\n",
       "      <td>0</td>\n",
       "    </tr>\n",
       "    <tr>\n",
       "      <th>2</th>\n",
       "      <td>BKG:semilepto_test</td>\n",
       "      <td>6</td>\n",
       "      <td>0.0</td>\n",
       "      <td>3.095241</td>\n",
       "      <td>2.633242</td>\n",
       "      <td>2.163251</td>\n",
       "      <td>2.645165</td>\n",
       "      <td>2.844667</td>\n",
       "      <td>0.0</td>\n",
       "      <td>0.0</td>\n",
       "      <td>...</td>\n",
       "      <td>-0.625289</td>\n",
       "      <td>-1.476933</td>\n",
       "      <td>-1.581123</td>\n",
       "      <td>-2.121839</td>\n",
       "      <td>-0.053876</td>\n",
       "      <td>233.956490</td>\n",
       "      <td>0.0</td>\n",
       "      <td>0.0</td>\n",
       "      <td>0.0</td>\n",
       "      <td>0</td>\n",
       "    </tr>\n",
       "    <tr>\n",
       "      <th>3</th>\n",
       "      <td>BKG:semilepto_test</td>\n",
       "      <td>5</td>\n",
       "      <td>0.0</td>\n",
       "      <td>1.476971</td>\n",
       "      <td>1.050706</td>\n",
       "      <td>3.225524</td>\n",
       "      <td>2.661287</td>\n",
       "      <td>0.000000</td>\n",
       "      <td>0.0</td>\n",
       "      <td>0.0</td>\n",
       "      <td>...</td>\n",
       "      <td>-2.573591</td>\n",
       "      <td>-3.015218</td>\n",
       "      <td>-1.501568</td>\n",
       "      <td>-0.330397</td>\n",
       "      <td>0.000000</td>\n",
       "      <td>2224.845368</td>\n",
       "      <td>0.0</td>\n",
       "      <td>0.0</td>\n",
       "      <td>0.0</td>\n",
       "      <td>0</td>\n",
       "    </tr>\n",
       "    <tr>\n",
       "      <th>4</th>\n",
       "      <td>BKG:semilepto_test</td>\n",
       "      <td>5</td>\n",
       "      <td>0.0</td>\n",
       "      <td>3.084862</td>\n",
       "      <td>1.971243</td>\n",
       "      <td>3.002193</td>\n",
       "      <td>2.314375</td>\n",
       "      <td>0.000000</td>\n",
       "      <td>0.0</td>\n",
       "      <td>0.0</td>\n",
       "      <td>...</td>\n",
       "      <td>-2.473694</td>\n",
       "      <td>2.331247</td>\n",
       "      <td>-2.901099</td>\n",
       "      <td>2.750091</td>\n",
       "      <td>0.000000</td>\n",
       "      <td>2110.220183</td>\n",
       "      <td>0.0</td>\n",
       "      <td>0.0</td>\n",
       "      <td>0.0</td>\n",
       "      <td>0</td>\n",
       "    </tr>\n",
       "  </tbody>\n",
       "</table>\n",
       "<p>5 rows × 61 columns</p>\n",
       "</div>"
      ],
      "text/plain": [
       "                Truth  multiplicity  delta_R_1  delta_R_2  delta_R_3  \\\n",
       "0  BKG:semilepto_test             7        0.0   1.616195   2.158732   \n",
       "1  BKG:semilepto_test             7        0.0   2.794346   3.630165   \n",
       "2  BKG:semilepto_test             6        0.0   3.095241   2.633242   \n",
       "3  BKG:semilepto_test             5        0.0   1.476971   1.050706   \n",
       "4  BKG:semilepto_test             5        0.0   3.084862   1.971243   \n",
       "\n",
       "   delta_R_4  delta_R_5  delta_R_6  delta_R_7  delta_R_8  ...     phi_2  \\\n",
       "0   2.158483   2.304399   0.735744        0.0        0.0  ...  2.587464   \n",
       "1   2.483253   1.819955   2.971050        0.0        0.0  ... -2.978855   \n",
       "2   2.163251   2.645165   2.844667        0.0        0.0  ... -0.625289   \n",
       "3   3.225524   2.661287   0.000000        0.0        0.0  ... -2.573591   \n",
       "4   3.002193   2.314375   0.000000        0.0        0.0  ... -2.473694   \n",
       "\n",
       "      phi_3     phi_4     phi_5     phi_6        mET_1  mET_2  mET_3  mET_4  \\\n",
       "0  2.895854 -0.808096 -1.254239  0.474848  1627.102595    0.0    0.0    0.0   \n",
       "1  2.746671  2.002219 -1.144244  2.155058   846.806205    0.0    0.0    0.0   \n",
       "2 -1.476933 -1.581123 -2.121839 -0.053876   233.956490    0.0    0.0    0.0   \n",
       "3 -3.015218 -1.501568 -0.330397  0.000000  2224.845368    0.0    0.0    0.0   \n",
       "4  2.331247 -2.901099  2.750091  0.000000  2110.220183    0.0    0.0    0.0   \n",
       "\n",
       "   target  \n",
       "0       0  \n",
       "1       0  \n",
       "2       0  \n",
       "3       0  \n",
       "4       0  \n",
       "\n",
       "[5 rows x 61 columns]"
      ]
     },
     "execution_count": 54,
     "metadata": {},
     "output_type": "execute_result"
    }
   ],
   "source": [
    "df.head()"
   ]
  },
  {
   "cell_type": "code",
   "execution_count": 55,
   "metadata": {},
   "outputs": [],
   "source": [
    "df.to_parquet(\"data/full_sample.parquet\", index=False)"
   ]
  },
  {
   "cell_type": "markdown",
   "metadata": {},
   "source": [
    "# Data Visualization"
   ]
  },
  {
   "cell_type": "code",
   "execution_count": 56,
   "metadata": {},
   "outputs": [
    {
     "data": {
      "application/vnd.plotly.v1+json": {
       "config": {
        "plotlyServerURL": "https://plot.ly"
       },
       "data": [
        {
         "marker": {
          "color": "#866609"
         },
         "name": "BKG:semilepto_test",
         "type": "bar",
         "x": [
          0,
          209.845263671875,
          419.69052734375,
          629.5357910156249,
          839.3810546875,
          1049.226318359375,
          1259.0715820312498,
          1468.9168457031249,
          1678.762109375,
          1888.607373046875,
          2098.45263671875,
          2308.297900390625,
          2518.1431640624996,
          2727.988427734375,
          2937.8336914062497,
          3147.678955078125,
          3357.52421875,
          3567.3694824218746,
          3777.21474609375,
          3987.0600097656247,
          4196.9052734375
         ],
         "y": [
          0,
          0.0000018318,
          0.0000201498,
          0.0001062444,
          0.00029858339999999997,
          0.0005147357999999999,
          0.0006915045,
          0.0008737686,
          0.0010148172,
          0.0010752666,
          0.0010487055,
          0.0008554506,
          0.000741879,
          0.0006090735,
          0.0004753521,
          0.0003645282,
          0.0002701905,
          0.0001392168,
          0.0000439632,
          0.0000137385
         ]
        },
        {
         "marker": {
          "color": "#000000"
         },
         "name": "SIG:suu",
         "type": "bar",
         "x": [
          0,
          209.845263671875,
          419.69052734375,
          629.5357910156249,
          839.3810546875,
          1049.226318359375,
          1259.0715820312498,
          1468.9168457031249,
          1678.762109375,
          1888.607373046875,
          2098.45263671875,
          2308.297900390625,
          2518.1431640624996,
          2727.988427734375,
          2937.8336914062497,
          3147.678955078125,
          3357.52421875,
          3567.3694824218746,
          3777.21474609375,
          3987.0600097656247,
          4196.9052734375
         ],
         "y": [
          0.4841771,
          0.00708192,
          0.00054098,
          0,
          0,
          0,
          0,
          0,
          0,
          0,
          0,
          0,
          0,
          0,
          0,
          0,
          0,
          0,
          0,
          0
         ]
        }
       ],
       "layout": {
        "bargap": 0,
        "barmode": "stack",
        "height": 600,
        "template": {
         "data": {
          "bar": [
           {
            "error_x": {
             "color": "#2a3f5f"
            },
            "error_y": {
             "color": "#2a3f5f"
            },
            "marker": {
             "line": {
              "color": "#E5ECF6",
              "width": 0.5
             },
             "pattern": {
              "fillmode": "overlay",
              "size": 10,
              "solidity": 0.2
             }
            },
            "type": "bar"
           }
          ],
          "barpolar": [
           {
            "marker": {
             "line": {
              "color": "#E5ECF6",
              "width": 0.5
             },
             "pattern": {
              "fillmode": "overlay",
              "size": 10,
              "solidity": 0.2
             }
            },
            "type": "barpolar"
           }
          ],
          "carpet": [
           {
            "aaxis": {
             "endlinecolor": "#2a3f5f",
             "gridcolor": "white",
             "linecolor": "white",
             "minorgridcolor": "white",
             "startlinecolor": "#2a3f5f"
            },
            "baxis": {
             "endlinecolor": "#2a3f5f",
             "gridcolor": "white",
             "linecolor": "white",
             "minorgridcolor": "white",
             "startlinecolor": "#2a3f5f"
            },
            "type": "carpet"
           }
          ],
          "choropleth": [
           {
            "colorbar": {
             "outlinewidth": 0,
             "ticks": ""
            },
            "type": "choropleth"
           }
          ],
          "contour": [
           {
            "colorbar": {
             "outlinewidth": 0,
             "ticks": ""
            },
            "colorscale": [
             [
              0,
              "#0d0887"
             ],
             [
              0.1111111111111111,
              "#46039f"
             ],
             [
              0.2222222222222222,
              "#7201a8"
             ],
             [
              0.3333333333333333,
              "#9c179e"
             ],
             [
              0.4444444444444444,
              "#bd3786"
             ],
             [
              0.5555555555555556,
              "#d8576b"
             ],
             [
              0.6666666666666666,
              "#ed7953"
             ],
             [
              0.7777777777777778,
              "#fb9f3a"
             ],
             [
              0.8888888888888888,
              "#fdca26"
             ],
             [
              1,
              "#f0f921"
             ]
            ],
            "type": "contour"
           }
          ],
          "contourcarpet": [
           {
            "colorbar": {
             "outlinewidth": 0,
             "ticks": ""
            },
            "type": "contourcarpet"
           }
          ],
          "heatmap": [
           {
            "colorbar": {
             "outlinewidth": 0,
             "ticks": ""
            },
            "colorscale": [
             [
              0,
              "#0d0887"
             ],
             [
              0.1111111111111111,
              "#46039f"
             ],
             [
              0.2222222222222222,
              "#7201a8"
             ],
             [
              0.3333333333333333,
              "#9c179e"
             ],
             [
              0.4444444444444444,
              "#bd3786"
             ],
             [
              0.5555555555555556,
              "#d8576b"
             ],
             [
              0.6666666666666666,
              "#ed7953"
             ],
             [
              0.7777777777777778,
              "#fb9f3a"
             ],
             [
              0.8888888888888888,
              "#fdca26"
             ],
             [
              1,
              "#f0f921"
             ]
            ],
            "type": "heatmap"
           }
          ],
          "heatmapgl": [
           {
            "colorbar": {
             "outlinewidth": 0,
             "ticks": ""
            },
            "colorscale": [
             [
              0,
              "#0d0887"
             ],
             [
              0.1111111111111111,
              "#46039f"
             ],
             [
              0.2222222222222222,
              "#7201a8"
             ],
             [
              0.3333333333333333,
              "#9c179e"
             ],
             [
              0.4444444444444444,
              "#bd3786"
             ],
             [
              0.5555555555555556,
              "#d8576b"
             ],
             [
              0.6666666666666666,
              "#ed7953"
             ],
             [
              0.7777777777777778,
              "#fb9f3a"
             ],
             [
              0.8888888888888888,
              "#fdca26"
             ],
             [
              1,
              "#f0f921"
             ]
            ],
            "type": "heatmapgl"
           }
          ],
          "histogram": [
           {
            "marker": {
             "pattern": {
              "fillmode": "overlay",
              "size": 10,
              "solidity": 0.2
             }
            },
            "type": "histogram"
           }
          ],
          "histogram2d": [
           {
            "colorbar": {
             "outlinewidth": 0,
             "ticks": ""
            },
            "colorscale": [
             [
              0,
              "#0d0887"
             ],
             [
              0.1111111111111111,
              "#46039f"
             ],
             [
              0.2222222222222222,
              "#7201a8"
             ],
             [
              0.3333333333333333,
              "#9c179e"
             ],
             [
              0.4444444444444444,
              "#bd3786"
             ],
             [
              0.5555555555555556,
              "#d8576b"
             ],
             [
              0.6666666666666666,
              "#ed7953"
             ],
             [
              0.7777777777777778,
              "#fb9f3a"
             ],
             [
              0.8888888888888888,
              "#fdca26"
             ],
             [
              1,
              "#f0f921"
             ]
            ],
            "type": "histogram2d"
           }
          ],
          "histogram2dcontour": [
           {
            "colorbar": {
             "outlinewidth": 0,
             "ticks": ""
            },
            "colorscale": [
             [
              0,
              "#0d0887"
             ],
             [
              0.1111111111111111,
              "#46039f"
             ],
             [
              0.2222222222222222,
              "#7201a8"
             ],
             [
              0.3333333333333333,
              "#9c179e"
             ],
             [
              0.4444444444444444,
              "#bd3786"
             ],
             [
              0.5555555555555556,
              "#d8576b"
             ],
             [
              0.6666666666666666,
              "#ed7953"
             ],
             [
              0.7777777777777778,
              "#fb9f3a"
             ],
             [
              0.8888888888888888,
              "#fdca26"
             ],
             [
              1,
              "#f0f921"
             ]
            ],
            "type": "histogram2dcontour"
           }
          ],
          "mesh3d": [
           {
            "colorbar": {
             "outlinewidth": 0,
             "ticks": ""
            },
            "type": "mesh3d"
           }
          ],
          "parcoords": [
           {
            "line": {
             "colorbar": {
              "outlinewidth": 0,
              "ticks": ""
             }
            },
            "type": "parcoords"
           }
          ],
          "pie": [
           {
            "automargin": true,
            "type": "pie"
           }
          ],
          "scatter": [
           {
            "fillpattern": {
             "fillmode": "overlay",
             "size": 10,
             "solidity": 0.2
            },
            "type": "scatter"
           }
          ],
          "scatter3d": [
           {
            "line": {
             "colorbar": {
              "outlinewidth": 0,
              "ticks": ""
             }
            },
            "marker": {
             "colorbar": {
              "outlinewidth": 0,
              "ticks": ""
             }
            },
            "type": "scatter3d"
           }
          ],
          "scattercarpet": [
           {
            "marker": {
             "colorbar": {
              "outlinewidth": 0,
              "ticks": ""
             }
            },
            "type": "scattercarpet"
           }
          ],
          "scattergeo": [
           {
            "marker": {
             "colorbar": {
              "outlinewidth": 0,
              "ticks": ""
             }
            },
            "type": "scattergeo"
           }
          ],
          "scattergl": [
           {
            "marker": {
             "colorbar": {
              "outlinewidth": 0,
              "ticks": ""
             }
            },
            "type": "scattergl"
           }
          ],
          "scattermapbox": [
           {
            "marker": {
             "colorbar": {
              "outlinewidth": 0,
              "ticks": ""
             }
            },
            "type": "scattermapbox"
           }
          ],
          "scatterpolar": [
           {
            "marker": {
             "colorbar": {
              "outlinewidth": 0,
              "ticks": ""
             }
            },
            "type": "scatterpolar"
           }
          ],
          "scatterpolargl": [
           {
            "marker": {
             "colorbar": {
              "outlinewidth": 0,
              "ticks": ""
             }
            },
            "type": "scatterpolargl"
           }
          ],
          "scatterternary": [
           {
            "marker": {
             "colorbar": {
              "outlinewidth": 0,
              "ticks": ""
             }
            },
            "type": "scatterternary"
           }
          ],
          "surface": [
           {
            "colorbar": {
             "outlinewidth": 0,
             "ticks": ""
            },
            "colorscale": [
             [
              0,
              "#0d0887"
             ],
             [
              0.1111111111111111,
              "#46039f"
             ],
             [
              0.2222222222222222,
              "#7201a8"
             ],
             [
              0.3333333333333333,
              "#9c179e"
             ],
             [
              0.4444444444444444,
              "#bd3786"
             ],
             [
              0.5555555555555556,
              "#d8576b"
             ],
             [
              0.6666666666666666,
              "#ed7953"
             ],
             [
              0.7777777777777778,
              "#fb9f3a"
             ],
             [
              0.8888888888888888,
              "#fdca26"
             ],
             [
              1,
              "#f0f921"
             ]
            ],
            "type": "surface"
           }
          ],
          "table": [
           {
            "cells": {
             "fill": {
              "color": "#EBF0F8"
             },
             "line": {
              "color": "white"
             }
            },
            "header": {
             "fill": {
              "color": "#C8D4E3"
             },
             "line": {
              "color": "white"
             }
            },
            "type": "table"
           }
          ]
         },
         "layout": {
          "annotationdefaults": {
           "arrowcolor": "#2a3f5f",
           "arrowhead": 0,
           "arrowwidth": 1
          },
          "autotypenumbers": "strict",
          "coloraxis": {
           "colorbar": {
            "outlinewidth": 0,
            "ticks": ""
           }
          },
          "colorscale": {
           "diverging": [
            [
             0,
             "#8e0152"
            ],
            [
             0.1,
             "#c51b7d"
            ],
            [
             0.2,
             "#de77ae"
            ],
            [
             0.3,
             "#f1b6da"
            ],
            [
             0.4,
             "#fde0ef"
            ],
            [
             0.5,
             "#f7f7f7"
            ],
            [
             0.6,
             "#e6f5d0"
            ],
            [
             0.7,
             "#b8e186"
            ],
            [
             0.8,
             "#7fbc41"
            ],
            [
             0.9,
             "#4d9221"
            ],
            [
             1,
             "#276419"
            ]
           ],
           "sequential": [
            [
             0,
             "#0d0887"
            ],
            [
             0.1111111111111111,
             "#46039f"
            ],
            [
             0.2222222222222222,
             "#7201a8"
            ],
            [
             0.3333333333333333,
             "#9c179e"
            ],
            [
             0.4444444444444444,
             "#bd3786"
            ],
            [
             0.5555555555555556,
             "#d8576b"
            ],
            [
             0.6666666666666666,
             "#ed7953"
            ],
            [
             0.7777777777777778,
             "#fb9f3a"
            ],
            [
             0.8888888888888888,
             "#fdca26"
            ],
            [
             1,
             "#f0f921"
            ]
           ],
           "sequentialminus": [
            [
             0,
             "#0d0887"
            ],
            [
             0.1111111111111111,
             "#46039f"
            ],
            [
             0.2222222222222222,
             "#7201a8"
            ],
            [
             0.3333333333333333,
             "#9c179e"
            ],
            [
             0.4444444444444444,
             "#bd3786"
            ],
            [
             0.5555555555555556,
             "#d8576b"
            ],
            [
             0.6666666666666666,
             "#ed7953"
            ],
            [
             0.7777777777777778,
             "#fb9f3a"
            ],
            [
             0.8888888888888888,
             "#fdca26"
            ],
            [
             1,
             "#f0f921"
            ]
           ]
          },
          "colorway": [
           "#636efa",
           "#EF553B",
           "#00cc96",
           "#ab63fa",
           "#FFA15A",
           "#19d3f3",
           "#FF6692",
           "#B6E880",
           "#FF97FF",
           "#FECB52"
          ],
          "font": {
           "color": "#2a3f5f"
          },
          "geo": {
           "bgcolor": "white",
           "lakecolor": "white",
           "landcolor": "#E5ECF6",
           "showlakes": true,
           "showland": true,
           "subunitcolor": "white"
          },
          "hoverlabel": {
           "align": "left"
          },
          "hovermode": "closest",
          "mapbox": {
           "style": "light"
          },
          "paper_bgcolor": "white",
          "plot_bgcolor": "#E5ECF6",
          "polar": {
           "angularaxis": {
            "gridcolor": "white",
            "linecolor": "white",
            "ticks": ""
           },
           "bgcolor": "#E5ECF6",
           "radialaxis": {
            "gridcolor": "white",
            "linecolor": "white",
            "ticks": ""
           }
          },
          "scene": {
           "xaxis": {
            "backgroundcolor": "#E5ECF6",
            "gridcolor": "white",
            "gridwidth": 2,
            "linecolor": "white",
            "showbackground": true,
            "ticks": "",
            "zerolinecolor": "white"
           },
           "yaxis": {
            "backgroundcolor": "#E5ECF6",
            "gridcolor": "white",
            "gridwidth": 2,
            "linecolor": "white",
            "showbackground": true,
            "ticks": "",
            "zerolinecolor": "white"
           },
           "zaxis": {
            "backgroundcolor": "#E5ECF6",
            "gridcolor": "white",
            "gridwidth": 2,
            "linecolor": "white",
            "showbackground": true,
            "ticks": "",
            "zerolinecolor": "white"
           }
          },
          "shapedefaults": {
           "line": {
            "color": "#2a3f5f"
           }
          },
          "ternary": {
           "aaxis": {
            "gridcolor": "white",
            "linecolor": "white",
            "ticks": ""
           },
           "baxis": {
            "gridcolor": "white",
            "linecolor": "white",
            "ticks": ""
           },
           "bgcolor": "#E5ECF6",
           "caxis": {
            "gridcolor": "white",
            "linecolor": "white",
            "ticks": ""
           }
          },
          "title": {
           "x": 0.05
          },
          "xaxis": {
           "automargin": true,
           "gridcolor": "white",
           "linecolor": "white",
           "ticks": "",
           "title": {
            "standoff": 15
           },
           "zerolinecolor": "white",
           "zerolinewidth": 2
          },
          "yaxis": {
           "automargin": true,
           "gridcolor": "white",
           "linecolor": "white",
           "ticks": "",
           "title": {
            "standoff": 15
           },
           "zerolinecolor": "white",
           "zerolinewidth": 2
          }
         }
        },
        "title": {
         "text": "6-jet Mass"
        },
        "width": 1066.6666666666665,
        "xaxis": {
         "range": [
          104.9226318359375,
          4301.827905273438
         ],
         "title": {
          "text": "Invariant Mass [GeV]"
         }
        },
        "yaxis": {
         "title": {
          "text": "count x sigma"
         },
         "type": "log"
        }
       }
      }
     },
     "metadata": {},
     "output_type": "display_data"
    }
   ],
   "source": [
    "fig = make_histogram(jet_pts, 20, col=0, clip_top_prc=100)\n",
    "bin_width = fig.data[0].x[1] - fig.data[0].x[0]\n",
    "fig.update_layout(\n",
    "    title=\"6-jet Mass\",\n",
    "    xaxis_title=\"Invariant Mass [GeV]\",\n",
    "    yaxis_title_text=\"count x sigma\",\n",
    "    barmode=\"stack\",\n",
    "    bargap=0,\n",
    "    width=1600 * (2 / 3),\n",
    "    height=900 * (2 / 3),\n",
    "    # ignore first bin\n",
    "    xaxis_range=[fig.data[0].x[1] - bin_width / 2, fig.data[0].x[-1] + bin_width / 2],\n",
    "    yaxis_type=\"log\",\n",
    ")\n",
    "\n",
    "fig.show()"
   ]
  },
  {
   "cell_type": "code",
   "execution_count": 57,
   "metadata": {},
   "outputs": [
    {
     "ename": "RuntimeError",
     "evalue": "Optimal parameters not found: Number of calls to function has reached maxfev = 800.",
     "output_type": "error",
     "traceback": [
      "\u001b[0;31m---------------------------------------------------------------------------\u001b[0m",
      "\u001b[0;31mRuntimeError\u001b[0m                              Traceback (most recent call last)",
      "\u001b[1;32m/Users/ioana/Desktop/Thesis/ML_HEP_Tutorials_v2/diquark-analysis/notebooks/01_feature_engineering.ipynb Cell 17\u001b[0m line \u001b[0;36m2\n\u001b[1;32m      <a href='vscode-notebook-cell:/Users/ioana/Desktop/Thesis/ML_HEP_Tutorials_v2/diquark-analysis/notebooks/01_feature_engineering.ipynb#X22sZmlsZQ%3D%3D?line=0'>1</a>\u001b[0m suu_mass \u001b[39m=\u001b[39m {\u001b[39m\"\u001b[39m\u001b[39mSIG:suu\u001b[39m\u001b[39m\"\u001b[39m: combined_masses[\u001b[39m\"\u001b[39m\u001b[39mSIG:suu\u001b[39m\u001b[39m\"\u001b[39m]}\n\u001b[0;32m----> <a href='vscode-notebook-cell:/Users/ioana/Desktop/Thesis/ML_HEP_Tutorials_v2/diquark-analysis/notebooks/01_feature_engineering.ipynb#X22sZmlsZQ%3D%3D?line=1'>2</a>\u001b[0m fig \u001b[39m=\u001b[39m make_histogram_with_double_gaussian_fit(suu_mass, \u001b[39m20\u001b[39;49m, clip_top_prc\u001b[39m=\u001b[39;49m\u001b[39m100\u001b[39;49m, cross\u001b[39m=\u001b[39;49m\u001b[39mNone\u001b[39;49;00m)\n\u001b[1;32m      <a href='vscode-notebook-cell:/Users/ioana/Desktop/Thesis/ML_HEP_Tutorials_v2/diquark-analysis/notebooks/01_feature_engineering.ipynb#X22sZmlsZQ%3D%3D?line=2'>3</a>\u001b[0m bin_width \u001b[39m=\u001b[39m fig\u001b[39m.\u001b[39mdata[\u001b[39m0\u001b[39m]\u001b[39m.\u001b[39mx[\u001b[39m1\u001b[39m] \u001b[39m-\u001b[39m fig\u001b[39m.\u001b[39mdata[\u001b[39m0\u001b[39m]\u001b[39m.\u001b[39mx[\u001b[39m0\u001b[39m]\n\u001b[1;32m      <a href='vscode-notebook-cell:/Users/ioana/Desktop/Thesis/ML_HEP_Tutorials_v2/diquark-analysis/notebooks/01_feature_engineering.ipynb#X22sZmlsZQ%3D%3D?line=3'>4</a>\u001b[0m fig\u001b[39m.\u001b[39mupdate_layout(\n\u001b[1;32m      <a href='vscode-notebook-cell:/Users/ioana/Desktop/Thesis/ML_HEP_Tutorials_v2/diquark-analysis/notebooks/01_feature_engineering.ipynb#X22sZmlsZQ%3D%3D?line=4'>5</a>\u001b[0m     title\u001b[39m=\u001b[39m\u001b[39m\"\u001b[39m\u001b[39m6-jet Mass\u001b[39m\u001b[39m\"\u001b[39m,\n\u001b[1;32m      <a href='vscode-notebook-cell:/Users/ioana/Desktop/Thesis/ML_HEP_Tutorials_v2/diquark-analysis/notebooks/01_feature_engineering.ipynb#X22sZmlsZQ%3D%3D?line=5'>6</a>\u001b[0m     xaxis_title\u001b[39m=\u001b[39m\u001b[39m\"\u001b[39m\u001b[39mInvariant Mass [GeV]\u001b[39m\u001b[39m\"\u001b[39m,\n\u001b[0;32m   (...)\u001b[0m\n\u001b[1;32m     <a href='vscode-notebook-cell:/Users/ioana/Desktop/Thesis/ML_HEP_Tutorials_v2/diquark-analysis/notebooks/01_feature_engineering.ipynb#X22sZmlsZQ%3D%3D?line=13'>14</a>\u001b[0m     yaxis_type\u001b[39m=\u001b[39m\u001b[39m\"\u001b[39m\u001b[39mlog\u001b[39m\u001b[39m\"\u001b[39m,\n\u001b[1;32m     <a href='vscode-notebook-cell:/Users/ioana/Desktop/Thesis/ML_HEP_Tutorials_v2/diquark-analysis/notebooks/01_feature_engineering.ipynb#X22sZmlsZQ%3D%3D?line=14'>15</a>\u001b[0m )\n",
      "File \u001b[0;32m~/Desktop/Thesis/ML_HEP_Tutorials_v2/diquark-analysis/diquark/plotting.py:102\u001b[0m, in \u001b[0;36mmake_histogram_with_double_gaussian_fit\u001b[0;34m(variable, nbins, col, color, cross, clip_top_prc, clip_bottom_prc)\u001b[0m\n\u001b[1;32m     97\u001b[0m     fig\u001b[39m.\u001b[39madd_trace(\n\u001b[1;32m     98\u001b[0m         go\u001b[39m.\u001b[39mBar(x\u001b[39m=\u001b[39mbin_edges, y\u001b[39m=\u001b[39mcounts_scaled, name\u001b[39m=\u001b[39mkey, marker_color\u001b[39m=\u001b[39mcolor[key]),\n\u001b[1;32m     99\u001b[0m     )\n\u001b[1;32m    101\u001b[0m \u001b[39m# First Gaussian fit\u001b[39;00m\n\u001b[0;32m--> 102\u001b[0m params, _ \u001b[39m=\u001b[39m curve_fit(\n\u001b[1;32m    103\u001b[0m     gaussian,\n\u001b[1;32m    104\u001b[0m     bin_centers,\n\u001b[1;32m    105\u001b[0m     aggregated_counts,\n\u001b[1;32m    106\u001b[0m     p0\u001b[39m=\u001b[39;49m[\n\u001b[1;32m    107\u001b[0m         bin_centers[np\u001b[39m.\u001b[39;49margmax(aggregated_counts)],\n\u001b[1;32m    108\u001b[0m         \u001b[39mmax\u001b[39;49m(aggregated_counts),\n\u001b[1;32m    109\u001b[0m         (bin_centers[\u001b[39m-\u001b[39;49m\u001b[39m1\u001b[39;49m] \u001b[39m-\u001b[39;49m bin_centers[\u001b[39m0\u001b[39;49m]) \u001b[39m/\u001b[39;49m \u001b[39m2\u001b[39;49m,\n\u001b[1;32m    110\u001b[0m     ],\n\u001b[1;32m    111\u001b[0m )\n\u001b[1;32m    112\u001b[0m mean1, amplitude1, std_dev1 \u001b[39m=\u001b[39m params\n\u001b[1;32m    113\u001b[0m std_dev1 \u001b[39m=\u001b[39m \u001b[39mabs\u001b[39m(std_dev1)\n",
      "File \u001b[0;32m~/Library/Caches/pypoetry/virtualenvs/diquark-jOxHWOVb-py3.11/lib/python3.11/site-packages/scipy/optimize/_minpack_py.py:968\u001b[0m, in \u001b[0;36mcurve_fit\u001b[0;34m(f, xdata, ydata, p0, sigma, absolute_sigma, check_finite, bounds, method, jac, full_output, nan_policy, **kwargs)\u001b[0m\n\u001b[1;32m    966\u001b[0m     cost \u001b[39m=\u001b[39m np\u001b[39m.\u001b[39msum(infodict[\u001b[39m'\u001b[39m\u001b[39mfvec\u001b[39m\u001b[39m'\u001b[39m] \u001b[39m*\u001b[39m\u001b[39m*\u001b[39m \u001b[39m2\u001b[39m)\n\u001b[1;32m    967\u001b[0m     \u001b[39mif\u001b[39;00m ier \u001b[39mnot\u001b[39;00m \u001b[39min\u001b[39;00m [\u001b[39m1\u001b[39m, \u001b[39m2\u001b[39m, \u001b[39m3\u001b[39m, \u001b[39m4\u001b[39m]:\n\u001b[0;32m--> 968\u001b[0m         \u001b[39mraise\u001b[39;00m \u001b[39mRuntimeError\u001b[39;00m(\u001b[39m\"\u001b[39m\u001b[39mOptimal parameters not found: \u001b[39m\u001b[39m\"\u001b[39m \u001b[39m+\u001b[39m errmsg)\n\u001b[1;32m    969\u001b[0m \u001b[39melse\u001b[39;00m:\n\u001b[1;32m    970\u001b[0m     \u001b[39m# Rename maxfev (leastsq) to max_nfev (least_squares), if specified.\u001b[39;00m\n\u001b[1;32m    971\u001b[0m     \u001b[39mif\u001b[39;00m \u001b[39m'\u001b[39m\u001b[39mmax_nfev\u001b[39m\u001b[39m'\u001b[39m \u001b[39mnot\u001b[39;00m \u001b[39min\u001b[39;00m kwargs:\n",
      "\u001b[0;31mRuntimeError\u001b[0m: Optimal parameters not found: Number of calls to function has reached maxfev = 800."
     ]
    }
   ],
   "source": [
    "suu_mass = {\"SIG:suu\": combined_masses[\"SIG:suu\"]}\n",
    "fig = make_histogram_with_double_gaussian_fit(suu_mass, 20, clip_top_prc=100, cross=None)\n",
    "bin_width = fig.data[0].x[1] - fig.data[0].x[0]\n",
    "fig.update_layout(\n",
    "    title=\"6-jet Mass\",\n",
    "    xaxis_title=\"Invariant Mass [GeV]\",\n",
    "    yaxis_title_text=\"probability density\",\n",
    "    barmode=\"stack\",\n",
    "    bargap=0,\n",
    "    width=1300 * (2 / 3),\n",
    "    height=1300 * (2 / 3),\n",
    "    # ignore first bin\n",
    "    xaxis_range=[fig.data[0].x[1] - bin_width / 2, fig.data[0].x[-1] + bin_width / 2],\n",
    "    yaxis_type=\"log\",\n",
    ")\n",
    "fig.update_legends(\n",
    "    title_text=\"\",\n",
    "    itemsizing=\"constant\",\n",
    "    yanchor=\"top\",\n",
    "    y=0.1,\n",
    "    xanchor=\"left\",\n",
    "    x=0.01,\n",
    "    font=dict(size=16),\n",
    ")\n",
    "fig.show()\n",
    "# fig.write_image(\"suu_mass.pdf\")"
   ]
  },
  {
   "cell_type": "code",
   "execution_count": null,
   "metadata": {},
   "outputs": [],
   "source": []
  },
  {
   "cell_type": "code",
   "execution_count": null,
   "metadata": {},
   "outputs": [],
   "source": []
  }
 ],
 "metadata": {
  "kernelspec": {
   "display_name": ".venv",
   "language": "python",
   "name": "python3"
  },
  "language_info": {
   "codemirror_mode": {
    "name": "ipython",
    "version": 3
   },
   "file_extension": ".py",
   "mimetype": "text/x-python",
   "name": "python",
   "nbconvert_exporter": "python",
   "pygments_lexer": "ipython3",
   "version": "3.11.6"
  }
 },
 "nbformat": 4,
 "nbformat_minor": 2
}
