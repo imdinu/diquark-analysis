{
 "cells": [
  {
   "cell_type": "code",
   "execution_count": null,
   "metadata": {},
   "outputs": [],
   "source": [
    "import os\n",
    "\n",
    "import numpy as np\n",
    "import pandas as pd\n",
    "from tqdm import tqdm\n",
    "\n",
    "import plotly.express as px\n",
    "\n",
    "from diquark.constants import (\n",
    "    DATA_KEYS,\n",
    "    PATH_DICT_ATLAS_130_65,\n",
    "    PATH_DICT_CMS_130_65,\n",
    "    PATH_DICT_ATLAS_136_80,\n",
    "    PATH_DICT_CMS_136_80,\n",
    ")\n",
    "from diquark.helpers import create_data_dict\n",
    "from diquark.load import read_jet_delphes, lower_cut_suu_mass\n",
    "from diquark.features import (\n",
    "    jet_multiplicity,\n",
    "    jet_btag_multiplicity,\n",
    "    leading_jet_arr,\n",
    "    calculate_delta_r,\n",
    "    combined_invariant_mass,\n",
    "    n_jet_invariant_mass,\n",
    "    n_jet_charge_sum,\n",
    "    n_jet_vector_sum_pt,\n",
    ")\n",
    "from diquark.plotting import make_histogram, make_histogram_with_double_gaussian_fit\n",
    "\n",
    "\n",
    "if os.getcwd().split(\"/\")[-1] == \"notebooks\":\n",
    "    os.chdir(\"..\")"
   ]
  },
  {
   "cell_type": "code",
   "execution_count": null,
   "metadata": {},
   "outputs": [],
   "source": [
    "suu = suu = read_jet_delphes(PATH_DICT_ATLAS_136_80[\"SIG:Suu\"])\n",
    "suu = lower_cut_suu_mass(suu, 8000)"
   ]
  },
  {
   "cell_type": "code",
   "execution_count": null,
   "metadata": {},
   "outputs": [],
   "source": [
    "suu"
   ]
  },
  {
   "cell_type": "code",
   "execution_count": null,
   "metadata": {},
   "outputs": [],
   "source": [
    "DATA_KEYS"
   ]
  },
  {
   "cell_type": "code",
   "execution_count": null,
   "metadata": {},
   "outputs": [],
   "source": [
    "datasets = {\n",
    "    key: read_jet_delphes(PATH_DICT_ATLAS_130_65[key])\n",
    "    if not key.startswith(\"SIG\")\n",
    "    else lower_cut_suu_mass(read_jet_delphes(PATH_DICT_ATLAS_130_65[key]), 6500)\n",
    "    for key in tqdm(DATA_KEYS)\n",
    "}"
   ]
  },
  {
   "cell_type": "code",
   "execution_count": null,
   "metadata": {},
   "outputs": [],
   "source": [
    "datasets"
   ]
  },
  {
   "cell_type": "code",
   "execution_count": null,
   "metadata": {},
   "outputs": [],
   "source": [
    "jet_multiplicities = {key: jet_multiplicity(ds) for key, ds in tqdm(datasets.items())}\n",
    "jet_btag = {key: jet_btag_multiplicity(data) for key, data in tqdm(datasets.items())}"
   ]
  },
  {
   "cell_type": "code",
   "execution_count": null,
   "metadata": {},
   "outputs": [],
   "source": [
    "jet_pts = {key: leading_jet_arr(data, key=\"Jet/Jet.PT\") for key, data in tqdm(datasets.items())}\n",
    "jet_etas = {key: leading_jet_arr(data, key=\"Jet/Jet.Eta\") for key, data in tqdm(datasets.items())}\n",
    "jet_phis = {key: leading_jet_arr(data, key=\"Jet/Jet.Phi\") for key, data in tqdm(datasets.items())}"
   ]
  },
  {
   "cell_type": "code",
   "execution_count": null,
   "metadata": {},
   "outputs": [],
   "source": [
    "combined_masses = {key: combined_invariant_mass(arr) for key, arr in tqdm(datasets.items())}"
   ]
  },
  {
   "cell_type": "code",
   "execution_count": null,
   "metadata": {},
   "outputs": [],
   "source": [
    "# jet_charges = {\n",
    "#     key: leading_jet_arr(data, key=\"Jet/Jet.Charge\") for key, data in tqdm(datasets.items())\n",
    "# }"
   ]
  },
  {
   "cell_type": "code",
   "execution_count": null,
   "metadata": {},
   "outputs": [],
   "source": [
    "delta_rs = {}\n",
    "avg_delta_rs = {}\n",
    "m3j_s = {}\n",
    "m3j_m6j = {}\n",
    "m2j_s = {}\n",
    "m2j_m6j = {}\n",
    "max_delta_rs = {}\n",
    "smallest_delta_r_masses = {}\n",
    "n_jet_pairs_near_W_mass = {}\n",
    "max_vector_sum_pt = {}\n",
    "max_vector_sum_pt_delta_r = {}\n",
    "\n",
    "for key, data in tqdm(datasets.items()):\n",
    "    etas = leading_jet_arr(data, 6, key=\"Jet/Jet.Eta\")\n",
    "    phis = leading_jet_arr(data, 6, key=\"Jet/Jet.Phi\")\n",
    "    pts = leading_jet_arr(data, 6, key=\"Jet/Jet.PT\")\n",
    "\n",
    "    # Calculate ΔR for each pair of jets\n",
    "    delta_rs[key] = calculate_delta_r(etas, phis, pts)\n",
    "    avg_delta_rs[key] = np.mean(delta_rs[key], where=delta_rs[key] != 0)\n",
    "    max_delta_rs[key] = np.max(delta_rs[key], axis=1)\n",
    "\n",
    "    # Calculate invariant masses for 3-jet combinations\n",
    "    m3j_s[key] = n_jet_invariant_mass(data, n=6, k=3)\n",
    "    m3j_m6j[key] = np.divide(\n",
    "        m3j_s[key].mean(axis=-1, where=m3j_s[key] != 0),\n",
    "        combined_masses[key],\n",
    "        out=np.zeros_like(combined_masses[key]),\n",
    "        where=combined_masses[key] != 0,\n",
    "    )\n",
    "\n",
    "    # Calculate invariant masses for 2-jet combinations\n",
    "    m2j_s[key] = n_jet_invariant_mass(data, n=6, k=2)\n",
    "    m2j_m6j[key] = np.divide(\n",
    "        m2j_s[key].mean(axis=-1, where=m2j_s[key] != 0),\n",
    "        combined_masses[key],\n",
    "        out=np.zeros_like(combined_masses[key]),\n",
    "        where=combined_masses[key] != 0,\n",
    "    )\n",
    "\n",
    "    # Find the mass of the jet pair with the smallest ΔR\n",
    "    smallest_delta_r_indices = np.argmin(delta_rs[key], axis=1)\n",
    "    smallest_delta_r_masses[key] = np.choose(smallest_delta_r_indices, m2j_s[key].T)\n",
    "\n",
    "    # Count jet pairs within 20 GeV of the W mass\n",
    "\n",
    "    n_jet_pairs_near_W_mass[key] = np.sum((m2j_s[key] >= 60) & (m2j_s[key] <= 100), axis=1)\n",
    "\n",
    "    # Calculate vector sum pT for 2-jet combinations\n",
    "    vector_sum_pts = n_jet_vector_sum_pt(data, n=6, k=2)\n",
    "    max_vector_sum_pt[key] = np.max(vector_sum_pts, axis=1)\n",
    "\n",
    "    # Indices of the jet pairs (flat index across the combination matrix)\n",
    "    jet_pair_indices = np.argmax(vector_sum_pts, axis=1)\n",
    "\n",
    "    # calculate the ΔR between the two jets with the largest vector sum pT\n",
    "    max_vector_sum_pt_delta_r[key] = np.choose(jet_pair_indices, delta_rs[key].T)"
   ]
  },
  {
   "cell_type": "code",
   "execution_count": null,
   "metadata": {},
   "outputs": [],
   "source": [
    "ds = create_data_dict(\n",
    "    **{\n",
    "        \"multiplicity\": jet_multiplicities,\n",
    "        \"btag_multiplicity\": jet_btag,\n",
    "        \"delta_R\": delta_rs,\n",
    "        \"m3j\": m3j_s,\n",
    "        \"m2j_s\": m2j_s,\n",
    "        \"inv_mass\": combined_masses,\n",
    "        \"m3j_m6j\": m3j_m6j,\n",
    "        \"m2j_m6j\": m2j_m6j,\n",
    "        \"pt\": jet_pts,\n",
    "        \"eta\": jet_etas,\n",
    "        \"phi\": jet_phis,\n",
    "        \"max_delta_R\": max_delta_rs,\n",
    "        \"m2j_min_delta_R\": smallest_delta_r_masses,\n",
    "        \"nj_mW_pm20\": n_jet_pairs_near_W_mass,\n",
    "        \"max_vector_sum_pt\": max_vector_sum_pt,\n",
    "        \"max_vector_sum_pt_delta_r\": max_vector_sum_pt_delta_r,\n",
    "    }\n",
    ")"
   ]
  },
  {
   "cell_type": "code",
   "execution_count": null,
   "metadata": {},
   "outputs": [],
   "source": [
    "df = pd.DataFrame(ds)\n",
    "df[\"target\"] = df[\"Truth\"].apply(lambda x: 1 if \"SIG\" in x else 0)"
   ]
  },
  {
   "cell_type": "code",
   "execution_count": null,
   "metadata": {},
   "outputs": [],
   "source": [
    "df.head()"
   ]
  },
  {
   "cell_type": "code",
   "execution_count": null,
   "metadata": {},
   "outputs": [],
   "source": [
    "df.to_parquet(\"data/full_sample.parquet\", index=False)"
   ]
  },
  {
   "cell_type": "markdown",
   "metadata": {},
   "source": [
    "# Data Visualization"
   ]
  },
  {
   "cell_type": "code",
   "execution_count": null,
   "metadata": {},
   "outputs": [],
   "source": [
    "fig = make_histogram(jet_pts, 20, col=0, clip_top_prc=100)\n",
    "bin_width = fig.data[0].x[1] - fig.data[0].x[0]\n",
    "fig.update_layout(\n",
    "    title=\"6-jet Mass\",\n",
    "    xaxis_title=\"Invariant Mass [GeV]\",\n",
    "    yaxis_title_text=\"count x sigma\",\n",
    "    barmode=\"stack\",\n",
    "    bargap=0,\n",
    "    width=1600 * (2 / 3),\n",
    "    height=900 * (2 / 3),\n",
    "    # ignore first bin\n",
    "    xaxis_range=[fig.data[0].x[1] - bin_width / 2, fig.data[0].x[-1] + bin_width / 2],\n",
    "    yaxis_type=\"log\",\n",
    ")\n",
    "\n",
    "fig.show()"
   ]
  },
  {
   "cell_type": "code",
   "execution_count": null,
   "metadata": {},
   "outputs": [],
   "source": [
    "(combined_masses[\"SIG:Suu\"] > 6500).sum() / combined_masses[\"SIG:Suu\"].shape[0]"
   ]
  },
  {
   "cell_type": "code",
   "execution_count": null,
   "metadata": {},
   "outputs": [],
   "source": [
    "suu_mass = {\"SIG:Suu\": combined_masses[\"SIG:Suu\"]}\n",
    "fig, _, _ = make_histogram_with_double_gaussian_fit(suu_mass, 20, clip_top_prc=100, cross=None)\n",
    "bin_width = fig.data[0].x[1] - fig.data[0].x[0]\n",
    "fig.update_layout(\n",
    "    title=\"6-jet Mass\",\n",
    "    xaxis_title=\"Invariant Mass [GeV]\",\n",
    "    yaxis_title_text=\"probability density\",\n",
    "    barmode=\"stack\",\n",
    "    bargap=0,\n",
    "    width=1300 * (2 / 3),\n",
    "    height=1300 * (2 / 3),\n",
    "    # ignore first bin\n",
    "    xaxis_range=[fig.data[0].x[1] - bin_width / 2, fig.data[0].x[-1] + bin_width / 2],\n",
    "    yaxis_type=\"log\",\n",
    ")\n",
    "fig.update_legends(\n",
    "    title_text=\"\",\n",
    "    itemsizing=\"constant\",\n",
    "    yanchor=\"top\",\n",
    "    y=0.1,\n",
    "    xanchor=\"left\",\n",
    "    x=0.01,\n",
    "    font=dict(size=16),\n",
    ")\n",
    "fig.show()\n",
    "# fig.write_image(\"suu_mass.pdf\")"
   ]
  },
  {
   "cell_type": "code",
   "execution_count": null,
   "metadata": {},
   "outputs": [],
   "source": [
    "df.columns"
   ]
  },
  {
   "cell_type": "code",
   "execution_count": null,
   "metadata": {},
   "outputs": [],
   "source": [
    "fig = make_histogram(jet_multiplicities, 16, clip_top_prc=100)\n",
    "bin_width = fig.data[0].x[1] - fig.data[0].x[0]\n",
    "fig.update_layout(\n",
    "    # title=\"6-jet Mass\",\n",
    "    # xaxis_title=\"Invariant Mass [GeV]\",\n",
    "    yaxis_title_text=\"count x sigma\",\n",
    "    barmode=\"stack\",\n",
    "    bargap=0,\n",
    "    width=1600 * (2 / 3),\n",
    "    height=900 * (2 / 3),\n",
    "    # ignore first bin\n",
    "    xaxis_range=[fig.data[0].x[1] - bin_width / 2, fig.data[0].x[-1] + bin_width / 2],\n",
    "    yaxis_type=\"log\",\n",
    ")\n",
    "\n",
    "fig.show()\n",
    "print(\n",
    "    [fig.data[0].x[1] - bin_width, fig.data[0].x[-1]],\n",
    ")"
   ]
  },
  {
   "cell_type": "code",
   "execution_count": null,
   "metadata": {},
   "outputs": [],
   "source": []
  },
  {
   "cell_type": "code",
   "execution_count": null,
   "metadata": {},
   "outputs": [],
   "source": []
  }
 ],
 "metadata": {
  "kernelspec": {
   "display_name": ".venv",
   "language": "python",
   "name": "python3"
  },
  "language_info": {
   "codemirror_mode": {
    "name": "ipython",
    "version": 3
   },
   "file_extension": ".py",
   "mimetype": "text/x-python",
   "name": "python",
   "nbconvert_exporter": "python",
   "pygments_lexer": "ipython3",
   "version": "3.11.5"
  }
 },
 "nbformat": 4,
 "nbformat_minor": 2
}
