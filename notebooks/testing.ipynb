{
 "cells": [
  {
   "cell_type": "code",
   "execution_count": 1,
   "metadata": {},
   "outputs": [],
   "source": [
    "from diquark.data.loader import DataLoader\n",
    "from diquark.features.feature_extractor import FeatureExtractor\n",
    "\n",
    "from diquark.config.constants import NEW_PATH_DICT_ATLAS_136_70"
   ]
  },
  {
   "cell_type": "code",
   "execution_count": 2,
   "metadata": {},
   "outputs": [],
   "source": [
    "loader = DataLoader(NEW_PATH_DICT_ATLAS_136_70, index_stop=1000)"
   ]
  },
  {
   "cell_type": "code",
   "execution_count": 3,
   "metadata": {},
   "outputs": [
    {
     "name": "stderr",
     "output_type": "stream",
     "text": [
      "Loading data: 100%|██████████| 30/30 [00:06<00:00,  4.74it/s]\n"
     ]
    }
   ],
   "source": [
    "datasets = loader.load_data()"
   ]
  },
  {
   "cell_type": "code",
   "execution_count": 4,
   "metadata": {},
   "outputs": [
    {
     "name": "stderr",
     "output_type": "stream",
     "text": [
      "/home/idinu/local/diquark-analysis/.venv/lib/python3.11/site-packages/awkward/_nplikes/array_module.py:249: RuntimeWarning: invalid value encountered in sqrt\n",
      "  return impl(*broadcasted_args, **(kwargs or {}))\n",
      "/home/idinu/local/diquark-analysis/diquark/features/feature_extractor.py:172: RuntimeWarning: Mean of empty slice.\n",
      "  m3j.mean(axis=1, where=m3j != 0),\n",
      "/home/idinu/local/diquark-analysis/.venv/lib/python3.11/site-packages/numpy/core/_methods.py:121: RuntimeWarning: invalid value encountered in divide\n",
      "  ret = um.true_divide(\n",
      "/home/idinu/local/diquark-analysis/diquark/features/feature_extractor.py:179: RuntimeWarning: Mean of empty slice.\n",
      "  m2j.mean(axis=1, where=m2j != 0),\n"
     ]
    }
   ],
   "source": [
    "all_features = {}\n",
    "for key, data in datasets.items():\n",
    "    extractor = FeatureExtractor(n_jets=6)\n",
    "    all_features[key] = extractor.compute_all(data)"
   ]
  },
  {
   "cell_type": "code",
   "execution_count": 5,
   "metadata": {},
   "outputs": [
    {
     "name": "stdout",
     "output_type": "stream",
     "text": [
      "jet_multiplicity 1 (1000,)\n",
      "\n",
      "leading_jet_pt_1 1 (1000,)\n",
      "\n",
      "leading_jet_pt_2 1 (1000,)\n",
      "\n",
      "leading_jet_pt_3 1 (1000,)\n",
      "\n",
      "leading_jet_pt_4 1 (1000,)\n",
      "\n",
      "leading_jet_pt_5 1 (1000,)\n",
      "\n",
      "leading_jet_pt_6 1 (1000,)\n",
      "\n",
      "leading_jet_eta_1 1 (1000,)\n",
      "\n",
      "leading_jet_eta_2 1 (1000,)\n",
      "\n",
      "leading_jet_eta_3 1 (1000,)\n",
      "\n",
      "leading_jet_eta_4 1 (1000,)\n",
      "\n",
      "leading_jet_eta_5 1 (1000,)\n",
      "\n",
      "leading_jet_eta_6 1 (1000,)\n",
      "\n",
      "leading_jet_phi_1 1 (1000,)\n",
      "\n",
      "leading_jet_phi_2 1 (1000,)\n",
      "\n",
      "leading_jet_phi_3 1 (1000,)\n",
      "\n",
      "leading_jet_phi_4 1 (1000,)\n",
      "\n",
      "leading_jet_phi_5 1 (1000,)\n",
      "\n",
      "leading_jet_phi_6 1 (1000,)\n",
      "\n",
      "delta_r_1 1 (1000,)\n",
      "\n",
      "delta_r_2 1 (1000,)\n",
      "\n",
      "delta_r_3 1 (1000,)\n",
      "\n",
      "delta_r_4 1 (1000,)\n",
      "\n",
      "delta_r_5 1 (1000,)\n",
      "\n",
      "delta_r_6 1 (1000,)\n",
      "\n",
      "delta_r_7 1 (1000,)\n",
      "\n",
      "delta_r_8 1 (1000,)\n",
      "\n",
      "delta_r_9 1 (1000,)\n",
      "\n",
      "delta_r_10 1 (1000,)\n",
      "\n",
      "delta_r_11 1 (1000,)\n",
      "\n",
      "delta_r_12 1 (1000,)\n",
      "\n",
      "delta_r_13 1 (1000,)\n",
      "\n",
      "delta_r_14 1 (1000,)\n",
      "\n",
      "delta_r_15 1 (1000,)\n",
      "\n",
      "combined_invariant_mass 1 (1000,)\n",
      "\n",
      "2jet_invariant_mass_1 1 (1000,)\n",
      "\n",
      "2jet_invariant_mass_2 1 (1000,)\n",
      "\n",
      "2jet_invariant_mass_3 1 (1000,)\n",
      "\n",
      "2jet_invariant_mass_4 1 (1000,)\n",
      "\n",
      "2jet_invariant_mass_5 1 (1000,)\n",
      "\n",
      "2jet_invariant_mass_6 1 (1000,)\n",
      "\n",
      "2jet_invariant_mass_7 1 (1000,)\n",
      "\n",
      "2jet_invariant_mass_8 1 (1000,)\n",
      "\n",
      "2jet_invariant_mass_9 1 (1000,)\n",
      "\n",
      "2jet_invariant_mass_10 1 (1000,)\n",
      "\n",
      "2jet_invariant_mass_11 1 (1000,)\n",
      "\n",
      "2jet_invariant_mass_12 1 (1000,)\n",
      "\n",
      "2jet_invariant_mass_13 1 (1000,)\n",
      "\n",
      "2jet_invariant_mass_14 1 (1000,)\n",
      "\n",
      "2jet_invariant_mass_15 1 (1000,)\n",
      "\n",
      "3jet_invariant_mass_1 1 (1000,)\n",
      "\n",
      "3jet_invariant_mass_2 1 (1000,)\n",
      "\n",
      "3jet_invariant_mass_3 1 (1000,)\n",
      "\n",
      "3jet_invariant_mass_4 1 (1000,)\n",
      "\n",
      "3jet_invariant_mass_5 1 (1000,)\n",
      "\n",
      "3jet_invariant_mass_6 1 (1000,)\n",
      "\n",
      "3jet_invariant_mass_7 1 (1000,)\n",
      "\n",
      "3jet_invariant_mass_8 1 (1000,)\n",
      "\n",
      "3jet_invariant_mass_9 1 (1000,)\n",
      "\n",
      "3jet_invariant_mass_10 1 (1000,)\n",
      "\n",
      "3jet_invariant_mass_11 1 (1000,)\n",
      "\n",
      "3jet_invariant_mass_12 1 (1000,)\n",
      "\n",
      "3jet_invariant_mass_13 1 (1000,)\n",
      "\n",
      "3jet_invariant_mass_14 1 (1000,)\n",
      "\n",
      "3jet_invariant_mass_15 1 (1000,)\n",
      "\n",
      "3jet_invariant_mass_16 1 (1000,)\n",
      "\n",
      "3jet_invariant_mass_17 1 (1000,)\n",
      "\n",
      "3jet_invariant_mass_18 1 (1000,)\n",
      "\n",
      "3jet_invariant_mass_19 1 (1000,)\n",
      "\n",
      "3jet_invariant_mass_20 1 (1000,)\n",
      "\n",
      "m3j_m6j_ratio 1 (1000,)\n",
      "\n",
      "m2j_m6j_ratio 1 (1000,)\n",
      "\n",
      "n_jet_pairs_near_w_mass 1 (1000,)\n",
      "\n",
      "max_delta_r 1 (1000,)\n",
      "\n",
      "smallest_delta_r_mass 1 (1000,)\n",
      "\n",
      "max_vector_sum_pt 1 (1000,)\n",
      "\n"
     ]
    }
   ],
   "source": [
    "for k, v in all_features[\"SIG:Suu\"].items():\n",
    "    print(k, v.ndim, v.shape)\n",
    "    print(\"\")"
   ]
  },
  {
   "cell_type": "code",
   "execution_count": 7,
   "metadata": {},
   "outputs": [
    {
     "name": "stderr",
     "output_type": "stream",
     "text": [
      "Loading data: 100%|██████████| 30/30 [00:17<00:00,  1.69it/s]\n",
      "/home/idinu/local/diquark-analysis/.venv/lib/python3.11/site-packages/awkward/_nplikes/array_module.py:249: RuntimeWarning: invalid value encountered in sqrt\n",
      "  return impl(*broadcasted_args, **(kwargs or {}))\n",
      "/home/idinu/local/diquark-analysis/diquark/features/feature_extractor.py:172: RuntimeWarning: Mean of empty slice.\n",
      "  m3j.mean(axis=1, where=m3j != 0),\n",
      "/home/idinu/local/diquark-analysis/.venv/lib/python3.11/site-packages/numpy/core/_methods.py:121: RuntimeWarning: invalid value encountered in divide\n",
      "  ret = um.true_divide(\n",
      "/home/idinu/local/diquark-analysis/diquark/features/feature_extractor.py:179: RuntimeWarning: Mean of empty slice.\n",
      "  m2j.mean(axis=1, where=m2j != 0),\n"
     ]
    },
    {
     "name": "stdout",
     "output_type": "stream",
     "text": [
      "[0]\tvalidation_0-logloss:0.60944\n",
      "[1]\tvalidation_0-logloss:0.54071\n",
      "[2]\tvalidation_0-logloss:0.48363\n",
      "[3]\tvalidation_0-logloss:0.43517\n",
      "[4]\tvalidation_0-logloss:0.39445\n",
      "[5]\tvalidation_0-logloss:0.35884\n",
      "[6]\tvalidation_0-logloss:0.32805\n",
      "[7]\tvalidation_0-logloss:0.30143\n",
      "[8]\tvalidation_0-logloss:0.27816\n",
      "[9]\tvalidation_0-logloss:0.25779\n",
      "[10]\tvalidation_0-logloss:0.23971\n",
      "[11]\tvalidation_0-logloss:0.22368\n",
      "[12]\tvalidation_0-logloss:0.20953\n",
      "[13]\tvalidation_0-logloss:0.19699\n",
      "[14]\tvalidation_0-logloss:0.18581\n",
      "[15]\tvalidation_0-logloss:0.17586\n",
      "[16]\tvalidation_0-logloss:0.16655\n",
      "[17]\tvalidation_0-logloss:0.15853\n",
      "[18]\tvalidation_0-logloss:0.15110\n",
      "[19]\tvalidation_0-logloss:0.14462\n",
      "[20]\tvalidation_0-logloss:0.13895\n",
      "[21]\tvalidation_0-logloss:0.13322\n",
      "[22]\tvalidation_0-logloss:0.12833\n",
      "[23]\tvalidation_0-logloss:0.12387\n",
      "[24]\tvalidation_0-logloss:0.11944\n",
      "[25]\tvalidation_0-logloss:0.11568\n",
      "[26]\tvalidation_0-logloss:0.11228\n",
      "[27]\tvalidation_0-logloss:0.10943\n",
      "[28]\tvalidation_0-logloss:0.10670\n",
      "[29]\tvalidation_0-logloss:0.10412\n",
      "[30]\tvalidation_0-logloss:0.10223\n",
      "[31]\tvalidation_0-logloss:0.09995\n",
      "[32]\tvalidation_0-logloss:0.09796\n",
      "[33]\tvalidation_0-logloss:0.09598\n",
      "[34]\tvalidation_0-logloss:0.09465\n",
      "[35]\tvalidation_0-logloss:0.09280\n",
      "[36]\tvalidation_0-logloss:0.09133\n",
      "[37]\tvalidation_0-logloss:0.08989\n",
      "[38]\tvalidation_0-logloss:0.08857\n",
      "[39]\tvalidation_0-logloss:0.08683\n",
      "[40]\tvalidation_0-logloss:0.08591\n",
      "[41]\tvalidation_0-logloss:0.08486\n",
      "[42]\tvalidation_0-logloss:0.08350\n",
      "[43]\tvalidation_0-logloss:0.08257\n",
      "[44]\tvalidation_0-logloss:0.08192\n",
      "[45]\tvalidation_0-logloss:0.08122\n",
      "[46]\tvalidation_0-logloss:0.08056\n",
      "[47]\tvalidation_0-logloss:0.07930\n",
      "[48]\tvalidation_0-logloss:0.07841\n",
      "[49]\tvalidation_0-logloss:0.07775\n",
      "[50]\tvalidation_0-logloss:0.07705\n",
      "[51]\tvalidation_0-logloss:0.07643\n",
      "[52]\tvalidation_0-logloss:0.07556\n",
      "[53]\tvalidation_0-logloss:0.07511\n",
      "[54]\tvalidation_0-logloss:0.07465\n",
      "[55]\tvalidation_0-logloss:0.07377\n",
      "[56]\tvalidation_0-logloss:0.07334\n",
      "[57]\tvalidation_0-logloss:0.07286\n",
      "[58]\tvalidation_0-logloss:0.07226\n",
      "[59]\tvalidation_0-logloss:0.07193\n",
      "[60]\tvalidation_0-logloss:0.07157\n",
      "[61]\tvalidation_0-logloss:0.07132\n",
      "[62]\tvalidation_0-logloss:0.07097\n",
      "[63]\tvalidation_0-logloss:0.07064\n",
      "[64]\tvalidation_0-logloss:0.06992\n",
      "[65]\tvalidation_0-logloss:0.06942\n",
      "[66]\tvalidation_0-logloss:0.06884\n",
      "[67]\tvalidation_0-logloss:0.06855\n",
      "[68]\tvalidation_0-logloss:0.06829\n",
      "[69]\tvalidation_0-logloss:0.06814\n",
      "[70]\tvalidation_0-logloss:0.06799\n",
      "[71]\tvalidation_0-logloss:0.06748\n",
      "[72]\tvalidation_0-logloss:0.06721\n",
      "[73]\tvalidation_0-logloss:0.06700\n",
      "[74]\tvalidation_0-logloss:0.06659\n",
      "[75]\tvalidation_0-logloss:0.06632\n",
      "[76]\tvalidation_0-logloss:0.06593\n",
      "[77]\tvalidation_0-logloss:0.06545\n",
      "[78]\tvalidation_0-logloss:0.06533\n",
      "[79]\tvalidation_0-logloss:0.06498\n",
      "[80]\tvalidation_0-logloss:0.06469\n",
      "[81]\tvalidation_0-logloss:0.06448\n",
      "[82]\tvalidation_0-logloss:0.06425\n",
      "[83]\tvalidation_0-logloss:0.06401\n",
      "[84]\tvalidation_0-logloss:0.06368\n",
      "[85]\tvalidation_0-logloss:0.06341\n",
      "[86]\tvalidation_0-logloss:0.06329\n",
      "[87]\tvalidation_0-logloss:0.06315\n",
      "[88]\tvalidation_0-logloss:0.06300\n",
      "[89]\tvalidation_0-logloss:0.06283\n",
      "[90]\tvalidation_0-logloss:0.06250\n",
      "[91]\tvalidation_0-logloss:0.06236\n",
      "[92]\tvalidation_0-logloss:0.06208\n",
      "[93]\tvalidation_0-logloss:0.06179\n",
      "[94]\tvalidation_0-logloss:0.06167\n",
      "[95]\tvalidation_0-logloss:0.06146\n",
      "[96]\tvalidation_0-logloss:0.06135\n",
      "[97]\tvalidation_0-logloss:0.06115\n",
      "[98]\tvalidation_0-logloss:0.06106\n",
      "[99]\tvalidation_0-logloss:0.06094\n",
      "Training Results: {'validation_0': OrderedDict([('logloss', [0.6094448426644007, 0.5407082988192637, 0.48363002931028604, 0.43516571993529796, 0.3944522246946891, 0.35884463475942613, 0.32805472731043894, 0.30143037833149233, 0.2781615099181732, 0.25778545170600214, 0.2397129412844777, 0.22368485905627408, 0.2095265685779353, 0.19698961417898536, 0.1858076611665388, 0.17586365434813003, 0.16655101021354396, 0.1585294495437294, 0.15109985300054152, 0.14461641806165376, 0.13894544290211053, 0.13322053984478116, 0.12833329294609527, 0.12387303199687352, 0.11944230404434104, 0.11567953725500653, 0.11228083120264734, 0.10943130808149774, 0.10669766667876393, 0.10411593707483262, 0.1022314370506443, 0.09994902347068613, 0.09795705228683849, 0.09598298501488753, 0.09465461825130818, 0.092797420835495, 0.09132876823511905, 0.08989230750277638, 0.08856968005333717, 0.08682824714779078, 0.08591482937860613, 0.08486493165703335, 0.08349584607837411, 0.08257436985697132, 0.08192305066576616, 0.08122017408564765, 0.08056417257949555, 0.07930107138991589, 0.07841087727338308, 0.07774666502743106, 0.07704779137137036, 0.07643212217376179, 0.07555946042434468, 0.07510516123599567, 0.07465480733045843, 0.07376947601501985, 0.07333997833381388, 0.0728636758322876, 0.07226123473567617, 0.07193001492512897, 0.07156848737375354, 0.07132480677020503, 0.07097225390394549, 0.0706373521498841, 0.06991664048541715, 0.06942214893548662, 0.06883652149828413, 0.06855348915766808, 0.06829401421731891, 0.0681388525943849, 0.06798711098884377, 0.06747594889869628, 0.0672069497943737, 0.0669985056014312, 0.06658537064459427, 0.06632109585116534, 0.06592545064484535, 0.06545268737442893, 0.06532961673579363, 0.06498192990940006, 0.06469090340321394, 0.06447885756098294, 0.0642535979229182, 0.06401023829526979, 0.06367672653368718, 0.06341461990207402, 0.06329427090570292, 0.06315451184870387, 0.06300073335457018, 0.06283084696202398, 0.06250270870388291, 0.06235600804878195, 0.06208280872890901, 0.06178600554264037, 0.06167301099320879, 0.06145777269416006, 0.06135040906246929, 0.06114640247753862, 0.06105994366938703, 0.0609390885332954])])}\n",
      "Feature Importances: [3.2685765e-03 8.3123296e-03 3.3915234e-03 3.7846351e-01 3.1127673e-01\n",
      " 2.0528287e-03 0.0000000e+00 2.5205947e-03 8.4208464e-04 1.1351580e-03\n",
      " 8.1992510e-04 0.0000000e+00 1.1503326e-03 4.7928415e-04 1.2929912e-03\n",
      " 7.4975047e-04 9.6637959e-04 9.6032140e-04 1.4980542e-04 0.0000000e+00\n",
      " 1.1079807e-02 6.6399011e-03 4.3643774e-03 2.2575399e-03 1.9057123e-03\n",
      " 0.0000000e+00 0.0000000e+00 1.1809116e-02 7.1358238e-03 2.8917699e-03\n",
      " 5.3196849e-04 0.0000000e+00 0.0000000e+00 0.0000000e+00 4.5881304e-03\n",
      " 1.2742666e-02 3.0794933e-03 1.4617158e-02 4.8875306e-02 5.9880423e-03\n",
      " 5.4272036e-03 0.0000000e+00 4.2827362e-03 1.6161990e-03 0.0000000e+00\n",
      " 0.0000000e+00 8.8080956e-04 3.2481612e-03 2.8564972e-03 8.4327883e-04\n",
      " 4.3920297e-02 1.2650145e-02 1.5636344e-03 3.4604638e-03 1.9595532e-03\n",
      " 1.0363857e-03 3.2986673e-03 0.0000000e+00 0.0000000e+00 2.6778905e-03\n",
      " 6.1164220e-04 0.0000000e+00 0.0000000e+00 0.0000000e+00 9.8737108e-04\n",
      " 0.0000000e+00 0.0000000e+00 0.0000000e+00 0.0000000e+00 3.2324721e-03\n",
      " 2.1776496e-03 3.5074279e-03 2.0493872e-03 1.5064101e-02 0.0000000e+00\n",
      " 2.6309244e-02]\n",
      "Accuracy: 0.9755\n",
      "AUC: 0.9974196681034482\n"
     ]
    }
   ],
   "source": [
    "import yaml\n",
    "from diquark.data.loader import DataLoader\n",
    "from diquark.features.feature_extractor import FeatureExtractor\n",
    "from diquark.data.preprocessor import Preprocessor\n",
    "from diquark.models.gradient_boosting import GradientBoostingModel\n",
    "from diquark.config.constants import NEW_PATH_DICT_ATLAS_136_70\n",
    "\n",
    "# Load configuration\n",
    "with open(\"../diquark/config/default_settings.yaml\", \"r\") as file:\n",
    "    config = yaml.safe_load(file)\n",
    "\n",
    "# Load data\n",
    "loader = DataLoader(NEW_PATH_DICT_ATLAS_136_70, index_stop=config[\"data\"][\"index_stop\"])\n",
    "datasets = loader.load_data()\n",
    "\n",
    "# Extract features\n",
    "all_features = {}\n",
    "for key, data in datasets.items():\n",
    "    extractor = FeatureExtractor(n_jets=config[\"feature_extraction\"][\"n_jets\"])\n",
    "    all_features[key] = extractor.compute_all(data)\n",
    "\n",
    "# Preprocess data\n",
    "preprocessor = Preprocessor(config[\"preprocessing\"])\n",
    "X_train, X_test, y_train, y_test, df_train, df_test = preprocessor.prepare_data(all_features)\n",
    "\n",
    "# Initialize and train the model\n",
    "model = GradientBoostingModel(config[\"models\"][\"gradient_boosting\"])\n",
    "model.build(input_shape=X_train.shape[1])\n",
    "training_results = model.train(X_train, y_train, X_test, y_test)\n",
    "\n",
    "# Make predictions\n",
    "y_pred = model.predict(X_test)\n",
    "\n",
    "# Print some results\n",
    "print(\"Training Results:\", training_results)\n",
    "print(\"Feature Importances:\", model.feature_importances())\n",
    "\n",
    "# You can add more evaluation metrics here, such as accuracy, AUC, etc.\n",
    "from sklearn.metrics import roc_auc_score\n",
    "\n",
    "print(\"AUC:\", roc_auc_score(y_test, y_pred))"
   ]
  },
  {
   "cell_type": "markdown",
   "metadata": {},
   "source": [
    "# Jet Analysis"
   ]
  },
  {
   "cell_type": "code",
   "execution_count": 20,
   "metadata": {},
   "outputs": [],
   "source": [
    "import pandas as pd\n",
    "import numpy as np\n",
    "import plotly.graph_objects as go\n",
    "\n",
    "\n",
    "# Function to extract values and errors from a string like \"1.1681e-01 ± 1.0086e-02\"\n",
    "def extract_value_and_error(s):\n",
    "    value, error = map(float, s.split(\"±\"))\n",
    "    return value, error"
   ]
  },
  {
   "cell_type": "code",
   "execution_count": 21,
   "metadata": {},
   "outputs": [],
   "source": [
    "df_6j = pd.read_csv(\"../jet_no_analysis/ATLAS_136_70_6j_5f/random_forest_counts_summary.csv\")\n",
    "df_7j = pd.read_csv(\"../jet_no_analysis/ATLAS_136_70_7j_5f/random_forest_counts_summary.csv\")\n",
    "df_8j = pd.read_csv(\"../jet_no_analysis/ATLAS_136_70_8j_5f/random_forest_counts_summary.csv\")"
   ]
  },
  {
   "cell_type": "code",
   "execution_count": 38,
   "metadata": {},
   "outputs": [],
   "source": [
    "# Combine dataframes\n",
    "dfs = [df_6j, df_7j, df_8j]\n",
    "labels = [\"6 jets\", \"7 jets\", \"8 jets\"]\n",
    "\n",
    "thresholds = [float(col) for col in df_6j.columns if col != \"Process\"][2:-1]\n",
    "colors = [\"rgb(31, 119, 180)\", \"rgb(255, 127, 14)\", \"rgb(44, 160, 44)\"]"
   ]
  },
  {
   "cell_type": "code",
   "execution_count": 40,
   "metadata": {},
   "outputs": [
    {
     "data": {
      "application/vnd.plotly.v1+json": {
       "config": {
        "plotlyServerURL": "https://plot.ly"
       },
       "data": [
        {
         "line": {
          "color": "rgb(31, 119, 180)"
         },
         "mode": "lines",
         "name": "S/B (6 jets)",
         "type": "scatter",
         "x": [
          0.8,
          0.9,
          0.925,
          0.95,
          0.96,
          0.97,
          0.98
         ],
         "y": [
          0.11681,
          0.25996,
          0.4353,
          0.9544,
          1.8144,
          9.219,
          31.2
         ]
        },
        {
         "fill": "toself",
         "fillcolor": "rgba(31, 119, 180,0.2)",
         "hoverinfo": "skip",
         "line": {
          "color": "rgba(255,255,255,0)"
         },
         "name": "Error band (6 jets)",
         "type": "scatter",
         "x": [
          0.8,
          0.9,
          0.925,
          0.95,
          0.96,
          0.97,
          0.98,
          0.98,
          0.97,
          0.96,
          0.95,
          0.925,
          0.9,
          0.8
         ],
         "y": [
          0.126896,
          0.35378000000000004,
          0.5716,
          1.2869000000000002,
          2.78933,
          12.12,
          45.61,
          16.79,
          6.318,
          0.83947,
          0.6219,
          0.29900000000000004,
          0.16614,
          0.106724
         ]
        },
        {
         "line": {
          "color": "rgb(255, 127, 14)"
         },
         "mode": "lines",
         "name": "S/B (7 jets)",
         "type": "scatter",
         "x": [
          0.8,
          0.9,
          0.925,
          0.95,
          0.96,
          0.97,
          0.98
         ],
         "y": [
          0.11681,
          0.25996,
          0.4353,
          0.9544,
          1.8144,
          9.219,
          31.2
         ]
        },
        {
         "fill": "toself",
         "fillcolor": "rgba(255, 127, 14,0.2)",
         "hoverinfo": "skip",
         "line": {
          "color": "rgba(255,255,255,0)"
         },
         "name": "Error band (7 jets)",
         "type": "scatter",
         "x": [
          0.8,
          0.9,
          0.925,
          0.95,
          0.96,
          0.97,
          0.98,
          0.98,
          0.97,
          0.96,
          0.95,
          0.925,
          0.9,
          0.8
         ],
         "y": [
          0.126896,
          0.35378000000000004,
          0.5716,
          1.2869000000000002,
          2.78933,
          12.12,
          45.61,
          16.79,
          6.318,
          0.83947,
          0.6219,
          0.29900000000000004,
          0.16614,
          0.106724
         ]
        },
        {
         "line": {
          "color": "rgb(44, 160, 44)"
         },
         "mode": "lines",
         "name": "S/B (8 jets)",
         "type": "scatter",
         "x": [
          0.8,
          0.9,
          0.925,
          0.95,
          0.96,
          0.97,
          0.98
         ],
         "y": [
          0.09287,
          0.28189,
          0.39262,
          0.8794,
          1.6634,
          9.774,
          27.293
         ]
        },
        {
         "fill": "toself",
         "fillcolor": "rgba(44, 160, 44,0.2)",
         "hoverinfo": "skip",
         "line": {
          "color": "rgba(255,255,255,0)"
         },
         "name": "Error band (8 jets)",
         "type": "scatter",
         "x": [
          0.8,
          0.9,
          0.925,
          0.95,
          0.96,
          0.97,
          0.98,
          0.98,
          0.97,
          0.96,
          0.95,
          0.925,
          0.9,
          0.8
         ],
         "y": [
          0.1013781,
          0.347298,
          0.491615,
          1.1118,
          2.5900600000000003,
          13.41,
          35.5325,
          19.0535,
          6.137999999999999,
          0.73674,
          0.647,
          0.293625,
          0.21648199999999998,
          0.08436189999999999
         ]
        }
       ],
       "layout": {
        "legend": {
         "title": {
          "text": "Legend"
         }
        },
        "template": {
         "data": {
          "bar": [
           {
            "error_x": {
             "color": "#2a3f5f"
            },
            "error_y": {
             "color": "#2a3f5f"
            },
            "marker": {
             "line": {
              "color": "#E5ECF6",
              "width": 0.5
             },
             "pattern": {
              "fillmode": "overlay",
              "size": 10,
              "solidity": 0.2
             }
            },
            "type": "bar"
           }
          ],
          "barpolar": [
           {
            "marker": {
             "line": {
              "color": "#E5ECF6",
              "width": 0.5
             },
             "pattern": {
              "fillmode": "overlay",
              "size": 10,
              "solidity": 0.2
             }
            },
            "type": "barpolar"
           }
          ],
          "carpet": [
           {
            "aaxis": {
             "endlinecolor": "#2a3f5f",
             "gridcolor": "white",
             "linecolor": "white",
             "minorgridcolor": "white",
             "startlinecolor": "#2a3f5f"
            },
            "baxis": {
             "endlinecolor": "#2a3f5f",
             "gridcolor": "white",
             "linecolor": "white",
             "minorgridcolor": "white",
             "startlinecolor": "#2a3f5f"
            },
            "type": "carpet"
           }
          ],
          "choropleth": [
           {
            "colorbar": {
             "outlinewidth": 0,
             "ticks": ""
            },
            "type": "choropleth"
           }
          ],
          "contour": [
           {
            "colorbar": {
             "outlinewidth": 0,
             "ticks": ""
            },
            "colorscale": [
             [
              0,
              "#0d0887"
             ],
             [
              0.1111111111111111,
              "#46039f"
             ],
             [
              0.2222222222222222,
              "#7201a8"
             ],
             [
              0.3333333333333333,
              "#9c179e"
             ],
             [
              0.4444444444444444,
              "#bd3786"
             ],
             [
              0.5555555555555556,
              "#d8576b"
             ],
             [
              0.6666666666666666,
              "#ed7953"
             ],
             [
              0.7777777777777778,
              "#fb9f3a"
             ],
             [
              0.8888888888888888,
              "#fdca26"
             ],
             [
              1,
              "#f0f921"
             ]
            ],
            "type": "contour"
           }
          ],
          "contourcarpet": [
           {
            "colorbar": {
             "outlinewidth": 0,
             "ticks": ""
            },
            "type": "contourcarpet"
           }
          ],
          "heatmap": [
           {
            "colorbar": {
             "outlinewidth": 0,
             "ticks": ""
            },
            "colorscale": [
             [
              0,
              "#0d0887"
             ],
             [
              0.1111111111111111,
              "#46039f"
             ],
             [
              0.2222222222222222,
              "#7201a8"
             ],
             [
              0.3333333333333333,
              "#9c179e"
             ],
             [
              0.4444444444444444,
              "#bd3786"
             ],
             [
              0.5555555555555556,
              "#d8576b"
             ],
             [
              0.6666666666666666,
              "#ed7953"
             ],
             [
              0.7777777777777778,
              "#fb9f3a"
             ],
             [
              0.8888888888888888,
              "#fdca26"
             ],
             [
              1,
              "#f0f921"
             ]
            ],
            "type": "heatmap"
           }
          ],
          "heatmapgl": [
           {
            "colorbar": {
             "outlinewidth": 0,
             "ticks": ""
            },
            "colorscale": [
             [
              0,
              "#0d0887"
             ],
             [
              0.1111111111111111,
              "#46039f"
             ],
             [
              0.2222222222222222,
              "#7201a8"
             ],
             [
              0.3333333333333333,
              "#9c179e"
             ],
             [
              0.4444444444444444,
              "#bd3786"
             ],
             [
              0.5555555555555556,
              "#d8576b"
             ],
             [
              0.6666666666666666,
              "#ed7953"
             ],
             [
              0.7777777777777778,
              "#fb9f3a"
             ],
             [
              0.8888888888888888,
              "#fdca26"
             ],
             [
              1,
              "#f0f921"
             ]
            ],
            "type": "heatmapgl"
           }
          ],
          "histogram": [
           {
            "marker": {
             "pattern": {
              "fillmode": "overlay",
              "size": 10,
              "solidity": 0.2
             }
            },
            "type": "histogram"
           }
          ],
          "histogram2d": [
           {
            "colorbar": {
             "outlinewidth": 0,
             "ticks": ""
            },
            "colorscale": [
             [
              0,
              "#0d0887"
             ],
             [
              0.1111111111111111,
              "#46039f"
             ],
             [
              0.2222222222222222,
              "#7201a8"
             ],
             [
              0.3333333333333333,
              "#9c179e"
             ],
             [
              0.4444444444444444,
              "#bd3786"
             ],
             [
              0.5555555555555556,
              "#d8576b"
             ],
             [
              0.6666666666666666,
              "#ed7953"
             ],
             [
              0.7777777777777778,
              "#fb9f3a"
             ],
             [
              0.8888888888888888,
              "#fdca26"
             ],
             [
              1,
              "#f0f921"
             ]
            ],
            "type": "histogram2d"
           }
          ],
          "histogram2dcontour": [
           {
            "colorbar": {
             "outlinewidth": 0,
             "ticks": ""
            },
            "colorscale": [
             [
              0,
              "#0d0887"
             ],
             [
              0.1111111111111111,
              "#46039f"
             ],
             [
              0.2222222222222222,
              "#7201a8"
             ],
             [
              0.3333333333333333,
              "#9c179e"
             ],
             [
              0.4444444444444444,
              "#bd3786"
             ],
             [
              0.5555555555555556,
              "#d8576b"
             ],
             [
              0.6666666666666666,
              "#ed7953"
             ],
             [
              0.7777777777777778,
              "#fb9f3a"
             ],
             [
              0.8888888888888888,
              "#fdca26"
             ],
             [
              1,
              "#f0f921"
             ]
            ],
            "type": "histogram2dcontour"
           }
          ],
          "mesh3d": [
           {
            "colorbar": {
             "outlinewidth": 0,
             "ticks": ""
            },
            "type": "mesh3d"
           }
          ],
          "parcoords": [
           {
            "line": {
             "colorbar": {
              "outlinewidth": 0,
              "ticks": ""
             }
            },
            "type": "parcoords"
           }
          ],
          "pie": [
           {
            "automargin": true,
            "type": "pie"
           }
          ],
          "scatter": [
           {
            "fillpattern": {
             "fillmode": "overlay",
             "size": 10,
             "solidity": 0.2
            },
            "type": "scatter"
           }
          ],
          "scatter3d": [
           {
            "line": {
             "colorbar": {
              "outlinewidth": 0,
              "ticks": ""
             }
            },
            "marker": {
             "colorbar": {
              "outlinewidth": 0,
              "ticks": ""
             }
            },
            "type": "scatter3d"
           }
          ],
          "scattercarpet": [
           {
            "marker": {
             "colorbar": {
              "outlinewidth": 0,
              "ticks": ""
             }
            },
            "type": "scattercarpet"
           }
          ],
          "scattergeo": [
           {
            "marker": {
             "colorbar": {
              "outlinewidth": 0,
              "ticks": ""
             }
            },
            "type": "scattergeo"
           }
          ],
          "scattergl": [
           {
            "marker": {
             "colorbar": {
              "outlinewidth": 0,
              "ticks": ""
             }
            },
            "type": "scattergl"
           }
          ],
          "scattermapbox": [
           {
            "marker": {
             "colorbar": {
              "outlinewidth": 0,
              "ticks": ""
             }
            },
            "type": "scattermapbox"
           }
          ],
          "scatterpolar": [
           {
            "marker": {
             "colorbar": {
              "outlinewidth": 0,
              "ticks": ""
             }
            },
            "type": "scatterpolar"
           }
          ],
          "scatterpolargl": [
           {
            "marker": {
             "colorbar": {
              "outlinewidth": 0,
              "ticks": ""
             }
            },
            "type": "scatterpolargl"
           }
          ],
          "scatterternary": [
           {
            "marker": {
             "colorbar": {
              "outlinewidth": 0,
              "ticks": ""
             }
            },
            "type": "scatterternary"
           }
          ],
          "surface": [
           {
            "colorbar": {
             "outlinewidth": 0,
             "ticks": ""
            },
            "colorscale": [
             [
              0,
              "#0d0887"
             ],
             [
              0.1111111111111111,
              "#46039f"
             ],
             [
              0.2222222222222222,
              "#7201a8"
             ],
             [
              0.3333333333333333,
              "#9c179e"
             ],
             [
              0.4444444444444444,
              "#bd3786"
             ],
             [
              0.5555555555555556,
              "#d8576b"
             ],
             [
              0.6666666666666666,
              "#ed7953"
             ],
             [
              0.7777777777777778,
              "#fb9f3a"
             ],
             [
              0.8888888888888888,
              "#fdca26"
             ],
             [
              1,
              "#f0f921"
             ]
            ],
            "type": "surface"
           }
          ],
          "table": [
           {
            "cells": {
             "fill": {
              "color": "#EBF0F8"
             },
             "line": {
              "color": "white"
             }
            },
            "header": {
             "fill": {
              "color": "#C8D4E3"
             },
             "line": {
              "color": "white"
             }
            },
            "type": "table"
           }
          ]
         },
         "layout": {
          "annotationdefaults": {
           "arrowcolor": "#2a3f5f",
           "arrowhead": 0,
           "arrowwidth": 1
          },
          "autotypenumbers": "strict",
          "coloraxis": {
           "colorbar": {
            "outlinewidth": 0,
            "ticks": ""
           }
          },
          "colorscale": {
           "diverging": [
            [
             0,
             "#8e0152"
            ],
            [
             0.1,
             "#c51b7d"
            ],
            [
             0.2,
             "#de77ae"
            ],
            [
             0.3,
             "#f1b6da"
            ],
            [
             0.4,
             "#fde0ef"
            ],
            [
             0.5,
             "#f7f7f7"
            ],
            [
             0.6,
             "#e6f5d0"
            ],
            [
             0.7,
             "#b8e186"
            ],
            [
             0.8,
             "#7fbc41"
            ],
            [
             0.9,
             "#4d9221"
            ],
            [
             1,
             "#276419"
            ]
           ],
           "sequential": [
            [
             0,
             "#0d0887"
            ],
            [
             0.1111111111111111,
             "#46039f"
            ],
            [
             0.2222222222222222,
             "#7201a8"
            ],
            [
             0.3333333333333333,
             "#9c179e"
            ],
            [
             0.4444444444444444,
             "#bd3786"
            ],
            [
             0.5555555555555556,
             "#d8576b"
            ],
            [
             0.6666666666666666,
             "#ed7953"
            ],
            [
             0.7777777777777778,
             "#fb9f3a"
            ],
            [
             0.8888888888888888,
             "#fdca26"
            ],
            [
             1,
             "#f0f921"
            ]
           ],
           "sequentialminus": [
            [
             0,
             "#0d0887"
            ],
            [
             0.1111111111111111,
             "#46039f"
            ],
            [
             0.2222222222222222,
             "#7201a8"
            ],
            [
             0.3333333333333333,
             "#9c179e"
            ],
            [
             0.4444444444444444,
             "#bd3786"
            ],
            [
             0.5555555555555556,
             "#d8576b"
            ],
            [
             0.6666666666666666,
             "#ed7953"
            ],
            [
             0.7777777777777778,
             "#fb9f3a"
            ],
            [
             0.8888888888888888,
             "#fdca26"
            ],
            [
             1,
             "#f0f921"
            ]
           ]
          },
          "colorway": [
           "#636efa",
           "#EF553B",
           "#00cc96",
           "#ab63fa",
           "#FFA15A",
           "#19d3f3",
           "#FF6692",
           "#B6E880",
           "#FF97FF",
           "#FECB52"
          ],
          "font": {
           "color": "#2a3f5f"
          },
          "geo": {
           "bgcolor": "white",
           "lakecolor": "white",
           "landcolor": "#E5ECF6",
           "showlakes": true,
           "showland": true,
           "subunitcolor": "white"
          },
          "hoverlabel": {
           "align": "left"
          },
          "hovermode": "closest",
          "mapbox": {
           "style": "light"
          },
          "paper_bgcolor": "white",
          "plot_bgcolor": "#E5ECF6",
          "polar": {
           "angularaxis": {
            "gridcolor": "white",
            "linecolor": "white",
            "ticks": ""
           },
           "bgcolor": "#E5ECF6",
           "radialaxis": {
            "gridcolor": "white",
            "linecolor": "white",
            "ticks": ""
           }
          },
          "scene": {
           "xaxis": {
            "backgroundcolor": "#E5ECF6",
            "gridcolor": "white",
            "gridwidth": 2,
            "linecolor": "white",
            "showbackground": true,
            "ticks": "",
            "zerolinecolor": "white"
           },
           "yaxis": {
            "backgroundcolor": "#E5ECF6",
            "gridcolor": "white",
            "gridwidth": 2,
            "linecolor": "white",
            "showbackground": true,
            "ticks": "",
            "zerolinecolor": "white"
           },
           "zaxis": {
            "backgroundcolor": "#E5ECF6",
            "gridcolor": "white",
            "gridwidth": 2,
            "linecolor": "white",
            "showbackground": true,
            "ticks": "",
            "zerolinecolor": "white"
           }
          },
          "shapedefaults": {
           "line": {
            "color": "#2a3f5f"
           }
          },
          "ternary": {
           "aaxis": {
            "gridcolor": "white",
            "linecolor": "white",
            "ticks": ""
           },
           "baxis": {
            "gridcolor": "white",
            "linecolor": "white",
            "ticks": ""
           },
           "bgcolor": "#E5ECF6",
           "caxis": {
            "gridcolor": "white",
            "linecolor": "white",
            "ticks": ""
           }
          },
          "title": {
           "x": 0.05
          },
          "xaxis": {
           "automargin": true,
           "gridcolor": "white",
           "linecolor": "white",
           "ticks": "",
           "title": {
            "standoff": 15
           },
           "zerolinecolor": "white",
           "zerolinewidth": 2
          },
          "yaxis": {
           "automargin": true,
           "gridcolor": "white",
           "linecolor": "white",
           "ticks": "",
           "title": {
            "standoff": 15
           },
           "zerolinecolor": "white",
           "zerolinewidth": 2
          }
         }
        },
        "title": {
         "text": "Signal to Background Ratio vs Threshold"
        },
        "xaxis": {
         "tickmode": "array",
         "ticktext": [
          "0.800",
          "0.900",
          "0.925",
          "0.950",
          "0.960",
          "0.970",
          "0.980"
         ],
         "tickvals": [
          0.8,
          0.9,
          0.925,
          0.95,
          0.96,
          0.97,
          0.98
         ],
         "title": {
          "text": "Threshold"
         }
        },
        "yaxis": {
         "title": {
          "text": "S/B Ratio"
         },
         "type": "log"
        }
       }
      },
      "text/html": [
       "<div>                            <div id=\"65615bf6-b896-4c82-92a1-95f74a5ae8ab\" class=\"plotly-graph-div\" style=\"height:525px; width:100%;\"></div>            <script type=\"text/javascript\">                require([\"plotly\"], function(Plotly) {                    window.PLOTLYENV=window.PLOTLYENV || {};                                    if (document.getElementById(\"65615bf6-b896-4c82-92a1-95f74a5ae8ab\")) {                    Plotly.newPlot(                        \"65615bf6-b896-4c82-92a1-95f74a5ae8ab\",                        [{\"line\":{\"color\":\"rgb(31, 119, 180)\"},\"mode\":\"lines\",\"name\":\"S\\u002fB (6 jets)\",\"x\":[0.8,0.9,0.925,0.95,0.96,0.97,0.98],\"y\":[0.11681,0.25996,0.4353,0.9544,1.8144,9.219,31.2],\"type\":\"scatter\"},{\"fill\":\"toself\",\"fillcolor\":\"rgba(31, 119, 180,0.2)\",\"hoverinfo\":\"skip\",\"line\":{\"color\":\"rgba(255,255,255,0)\"},\"name\":\"Error band (6 jets)\",\"x\":[0.8,0.9,0.925,0.95,0.96,0.97,0.98,0.98,0.97,0.96,0.95,0.925,0.9,0.8],\"y\":[0.126896,0.35378000000000004,0.5716,1.2869000000000002,2.78933,12.12,45.61,16.79,6.318,0.83947,0.6219,0.29900000000000004,0.16614,0.106724],\"type\":\"scatter\"},{\"line\":{\"color\":\"rgb(255, 127, 14)\"},\"mode\":\"lines\",\"name\":\"S\\u002fB (7 jets)\",\"x\":[0.8,0.9,0.925,0.95,0.96,0.97,0.98],\"y\":[0.11681,0.25996,0.4353,0.9544,1.8144,9.219,31.2],\"type\":\"scatter\"},{\"fill\":\"toself\",\"fillcolor\":\"rgba(255, 127, 14,0.2)\",\"hoverinfo\":\"skip\",\"line\":{\"color\":\"rgba(255,255,255,0)\"},\"name\":\"Error band (7 jets)\",\"x\":[0.8,0.9,0.925,0.95,0.96,0.97,0.98,0.98,0.97,0.96,0.95,0.925,0.9,0.8],\"y\":[0.126896,0.35378000000000004,0.5716,1.2869000000000002,2.78933,12.12,45.61,16.79,6.318,0.83947,0.6219,0.29900000000000004,0.16614,0.106724],\"type\":\"scatter\"},{\"line\":{\"color\":\"rgb(44, 160, 44)\"},\"mode\":\"lines\",\"name\":\"S\\u002fB (8 jets)\",\"x\":[0.8,0.9,0.925,0.95,0.96,0.97,0.98],\"y\":[0.09287,0.28189,0.39262,0.8794,1.6634,9.774,27.293],\"type\":\"scatter\"},{\"fill\":\"toself\",\"fillcolor\":\"rgba(44, 160, 44,0.2)\",\"hoverinfo\":\"skip\",\"line\":{\"color\":\"rgba(255,255,255,0)\"},\"name\":\"Error band (8 jets)\",\"x\":[0.8,0.9,0.925,0.95,0.96,0.97,0.98,0.98,0.97,0.96,0.95,0.925,0.9,0.8],\"y\":[0.1013781,0.347298,0.491615,1.1118,2.5900600000000003,13.41,35.5325,19.0535,6.137999999999999,0.73674,0.647,0.293625,0.21648199999999998,0.08436189999999999],\"type\":\"scatter\"}],                        {\"template\":{\"data\":{\"histogram2dcontour\":[{\"type\":\"histogram2dcontour\",\"colorbar\":{\"outlinewidth\":0,\"ticks\":\"\"},\"colorscale\":[[0.0,\"#0d0887\"],[0.1111111111111111,\"#46039f\"],[0.2222222222222222,\"#7201a8\"],[0.3333333333333333,\"#9c179e\"],[0.4444444444444444,\"#bd3786\"],[0.5555555555555556,\"#d8576b\"],[0.6666666666666666,\"#ed7953\"],[0.7777777777777778,\"#fb9f3a\"],[0.8888888888888888,\"#fdca26\"],[1.0,\"#f0f921\"]]}],\"choropleth\":[{\"type\":\"choropleth\",\"colorbar\":{\"outlinewidth\":0,\"ticks\":\"\"}}],\"histogram2d\":[{\"type\":\"histogram2d\",\"colorbar\":{\"outlinewidth\":0,\"ticks\":\"\"},\"colorscale\":[[0.0,\"#0d0887\"],[0.1111111111111111,\"#46039f\"],[0.2222222222222222,\"#7201a8\"],[0.3333333333333333,\"#9c179e\"],[0.4444444444444444,\"#bd3786\"],[0.5555555555555556,\"#d8576b\"],[0.6666666666666666,\"#ed7953\"],[0.7777777777777778,\"#fb9f3a\"],[0.8888888888888888,\"#fdca26\"],[1.0,\"#f0f921\"]]}],\"heatmap\":[{\"type\":\"heatmap\",\"colorbar\":{\"outlinewidth\":0,\"ticks\":\"\"},\"colorscale\":[[0.0,\"#0d0887\"],[0.1111111111111111,\"#46039f\"],[0.2222222222222222,\"#7201a8\"],[0.3333333333333333,\"#9c179e\"],[0.4444444444444444,\"#bd3786\"],[0.5555555555555556,\"#d8576b\"],[0.6666666666666666,\"#ed7953\"],[0.7777777777777778,\"#fb9f3a\"],[0.8888888888888888,\"#fdca26\"],[1.0,\"#f0f921\"]]}],\"heatmapgl\":[{\"type\":\"heatmapgl\",\"colorbar\":{\"outlinewidth\":0,\"ticks\":\"\"},\"colorscale\":[[0.0,\"#0d0887\"],[0.1111111111111111,\"#46039f\"],[0.2222222222222222,\"#7201a8\"],[0.3333333333333333,\"#9c179e\"],[0.4444444444444444,\"#bd3786\"],[0.5555555555555556,\"#d8576b\"],[0.6666666666666666,\"#ed7953\"],[0.7777777777777778,\"#fb9f3a\"],[0.8888888888888888,\"#fdca26\"],[1.0,\"#f0f921\"]]}],\"contourcarpet\":[{\"type\":\"contourcarpet\",\"colorbar\":{\"outlinewidth\":0,\"ticks\":\"\"}}],\"contour\":[{\"type\":\"contour\",\"colorbar\":{\"outlinewidth\":0,\"ticks\":\"\"},\"colorscale\":[[0.0,\"#0d0887\"],[0.1111111111111111,\"#46039f\"],[0.2222222222222222,\"#7201a8\"],[0.3333333333333333,\"#9c179e\"],[0.4444444444444444,\"#bd3786\"],[0.5555555555555556,\"#d8576b\"],[0.6666666666666666,\"#ed7953\"],[0.7777777777777778,\"#fb9f3a\"],[0.8888888888888888,\"#fdca26\"],[1.0,\"#f0f921\"]]}],\"surface\":[{\"type\":\"surface\",\"colorbar\":{\"outlinewidth\":0,\"ticks\":\"\"},\"colorscale\":[[0.0,\"#0d0887\"],[0.1111111111111111,\"#46039f\"],[0.2222222222222222,\"#7201a8\"],[0.3333333333333333,\"#9c179e\"],[0.4444444444444444,\"#bd3786\"],[0.5555555555555556,\"#d8576b\"],[0.6666666666666666,\"#ed7953\"],[0.7777777777777778,\"#fb9f3a\"],[0.8888888888888888,\"#fdca26\"],[1.0,\"#f0f921\"]]}],\"mesh3d\":[{\"type\":\"mesh3d\",\"colorbar\":{\"outlinewidth\":0,\"ticks\":\"\"}}],\"scatter\":[{\"fillpattern\":{\"fillmode\":\"overlay\",\"size\":10,\"solidity\":0.2},\"type\":\"scatter\"}],\"parcoords\":[{\"type\":\"parcoords\",\"line\":{\"colorbar\":{\"outlinewidth\":0,\"ticks\":\"\"}}}],\"scatterpolargl\":[{\"type\":\"scatterpolargl\",\"marker\":{\"colorbar\":{\"outlinewidth\":0,\"ticks\":\"\"}}}],\"bar\":[{\"error_x\":{\"color\":\"#2a3f5f\"},\"error_y\":{\"color\":\"#2a3f5f\"},\"marker\":{\"line\":{\"color\":\"#E5ECF6\",\"width\":0.5},\"pattern\":{\"fillmode\":\"overlay\",\"size\":10,\"solidity\":0.2}},\"type\":\"bar\"}],\"scattergeo\":[{\"type\":\"scattergeo\",\"marker\":{\"colorbar\":{\"outlinewidth\":0,\"ticks\":\"\"}}}],\"scatterpolar\":[{\"type\":\"scatterpolar\",\"marker\":{\"colorbar\":{\"outlinewidth\":0,\"ticks\":\"\"}}}],\"histogram\":[{\"marker\":{\"pattern\":{\"fillmode\":\"overlay\",\"size\":10,\"solidity\":0.2}},\"type\":\"histogram\"}],\"scattergl\":[{\"type\":\"scattergl\",\"marker\":{\"colorbar\":{\"outlinewidth\":0,\"ticks\":\"\"}}}],\"scatter3d\":[{\"type\":\"scatter3d\",\"line\":{\"colorbar\":{\"outlinewidth\":0,\"ticks\":\"\"}},\"marker\":{\"colorbar\":{\"outlinewidth\":0,\"ticks\":\"\"}}}],\"scattermapbox\":[{\"type\":\"scattermapbox\",\"marker\":{\"colorbar\":{\"outlinewidth\":0,\"ticks\":\"\"}}}],\"scatterternary\":[{\"type\":\"scatterternary\",\"marker\":{\"colorbar\":{\"outlinewidth\":0,\"ticks\":\"\"}}}],\"scattercarpet\":[{\"type\":\"scattercarpet\",\"marker\":{\"colorbar\":{\"outlinewidth\":0,\"ticks\":\"\"}}}],\"carpet\":[{\"aaxis\":{\"endlinecolor\":\"#2a3f5f\",\"gridcolor\":\"white\",\"linecolor\":\"white\",\"minorgridcolor\":\"white\",\"startlinecolor\":\"#2a3f5f\"},\"baxis\":{\"endlinecolor\":\"#2a3f5f\",\"gridcolor\":\"white\",\"linecolor\":\"white\",\"minorgridcolor\":\"white\",\"startlinecolor\":\"#2a3f5f\"},\"type\":\"carpet\"}],\"table\":[{\"cells\":{\"fill\":{\"color\":\"#EBF0F8\"},\"line\":{\"color\":\"white\"}},\"header\":{\"fill\":{\"color\":\"#C8D4E3\"},\"line\":{\"color\":\"white\"}},\"type\":\"table\"}],\"barpolar\":[{\"marker\":{\"line\":{\"color\":\"#E5ECF6\",\"width\":0.5},\"pattern\":{\"fillmode\":\"overlay\",\"size\":10,\"solidity\":0.2}},\"type\":\"barpolar\"}],\"pie\":[{\"automargin\":true,\"type\":\"pie\"}]},\"layout\":{\"autotypenumbers\":\"strict\",\"colorway\":[\"#636efa\",\"#EF553B\",\"#00cc96\",\"#ab63fa\",\"#FFA15A\",\"#19d3f3\",\"#FF6692\",\"#B6E880\",\"#FF97FF\",\"#FECB52\"],\"font\":{\"color\":\"#2a3f5f\"},\"hovermode\":\"closest\",\"hoverlabel\":{\"align\":\"left\"},\"paper_bgcolor\":\"white\",\"plot_bgcolor\":\"#E5ECF6\",\"polar\":{\"bgcolor\":\"#E5ECF6\",\"angularaxis\":{\"gridcolor\":\"white\",\"linecolor\":\"white\",\"ticks\":\"\"},\"radialaxis\":{\"gridcolor\":\"white\",\"linecolor\":\"white\",\"ticks\":\"\"}},\"ternary\":{\"bgcolor\":\"#E5ECF6\",\"aaxis\":{\"gridcolor\":\"white\",\"linecolor\":\"white\",\"ticks\":\"\"},\"baxis\":{\"gridcolor\":\"white\",\"linecolor\":\"white\",\"ticks\":\"\"},\"caxis\":{\"gridcolor\":\"white\",\"linecolor\":\"white\",\"ticks\":\"\"}},\"coloraxis\":{\"colorbar\":{\"outlinewidth\":0,\"ticks\":\"\"}},\"colorscale\":{\"sequential\":[[0.0,\"#0d0887\"],[0.1111111111111111,\"#46039f\"],[0.2222222222222222,\"#7201a8\"],[0.3333333333333333,\"#9c179e\"],[0.4444444444444444,\"#bd3786\"],[0.5555555555555556,\"#d8576b\"],[0.6666666666666666,\"#ed7953\"],[0.7777777777777778,\"#fb9f3a\"],[0.8888888888888888,\"#fdca26\"],[1.0,\"#f0f921\"]],\"sequentialminus\":[[0.0,\"#0d0887\"],[0.1111111111111111,\"#46039f\"],[0.2222222222222222,\"#7201a8\"],[0.3333333333333333,\"#9c179e\"],[0.4444444444444444,\"#bd3786\"],[0.5555555555555556,\"#d8576b\"],[0.6666666666666666,\"#ed7953\"],[0.7777777777777778,\"#fb9f3a\"],[0.8888888888888888,\"#fdca26\"],[1.0,\"#f0f921\"]],\"diverging\":[[0,\"#8e0152\"],[0.1,\"#c51b7d\"],[0.2,\"#de77ae\"],[0.3,\"#f1b6da\"],[0.4,\"#fde0ef\"],[0.5,\"#f7f7f7\"],[0.6,\"#e6f5d0\"],[0.7,\"#b8e186\"],[0.8,\"#7fbc41\"],[0.9,\"#4d9221\"],[1,\"#276419\"]]},\"xaxis\":{\"gridcolor\":\"white\",\"linecolor\":\"white\",\"ticks\":\"\",\"title\":{\"standoff\":15},\"zerolinecolor\":\"white\",\"automargin\":true,\"zerolinewidth\":2},\"yaxis\":{\"gridcolor\":\"white\",\"linecolor\":\"white\",\"ticks\":\"\",\"title\":{\"standoff\":15},\"zerolinecolor\":\"white\",\"automargin\":true,\"zerolinewidth\":2},\"scene\":{\"xaxis\":{\"backgroundcolor\":\"#E5ECF6\",\"gridcolor\":\"white\",\"linecolor\":\"white\",\"showbackground\":true,\"ticks\":\"\",\"zerolinecolor\":\"white\",\"gridwidth\":2},\"yaxis\":{\"backgroundcolor\":\"#E5ECF6\",\"gridcolor\":\"white\",\"linecolor\":\"white\",\"showbackground\":true,\"ticks\":\"\",\"zerolinecolor\":\"white\",\"gridwidth\":2},\"zaxis\":{\"backgroundcolor\":\"#E5ECF6\",\"gridcolor\":\"white\",\"linecolor\":\"white\",\"showbackground\":true,\"ticks\":\"\",\"zerolinecolor\":\"white\",\"gridwidth\":2}},\"shapedefaults\":{\"line\":{\"color\":\"#2a3f5f\"}},\"annotationdefaults\":{\"arrowcolor\":\"#2a3f5f\",\"arrowhead\":0,\"arrowwidth\":1},\"geo\":{\"bgcolor\":\"white\",\"landcolor\":\"#E5ECF6\",\"subunitcolor\":\"white\",\"showland\":true,\"showlakes\":true,\"lakecolor\":\"white\"},\"title\":{\"x\":0.05},\"mapbox\":{\"style\":\"light\"}}},\"yaxis\":{\"title\":{\"text\":\"S\\u002fB Ratio\"},\"type\":\"log\"},\"xaxis\":{\"title\":{\"text\":\"Threshold\"},\"tickmode\":\"array\",\"tickvals\":[0.8,0.9,0.925,0.95,0.96,0.97,0.98],\"ticktext\":[\"0.800\",\"0.900\",\"0.925\",\"0.950\",\"0.960\",\"0.970\",\"0.980\"]},\"title\":{\"text\":\"Signal to Background Ratio vs Threshold\"},\"legend\":{\"title\":{\"text\":\"Legend\"}}},                        {\"responsive\": true}                    ).then(function(){\n",
       "                            \n",
       "var gd = document.getElementById('65615bf6-b896-4c82-92a1-95f74a5ae8ab');\n",
       "var x = new MutationObserver(function (mutations, observer) {{\n",
       "        var display = window.getComputedStyle(gd).display;\n",
       "        if (!display || display === 'none') {{\n",
       "            console.log([gd, 'removed!']);\n",
       "            Plotly.purge(gd);\n",
       "            observer.disconnect();\n",
       "        }}\n",
       "}});\n",
       "\n",
       "// Listen for the removal of the full notebook cells\n",
       "var notebookContainer = gd.closest('#notebook-container');\n",
       "if (notebookContainer) {{\n",
       "    x.observe(notebookContainer, {childList: true});\n",
       "}}\n",
       "\n",
       "// Listen for the clearing of the current output cell\n",
       "var outputEl = gd.closest('.output');\n",
       "if (outputEl) {{\n",
       "    x.observe(outputEl, {childList: true});\n",
       "}}\n",
       "\n",
       "                        })                };                });            </script>        </div>"
      ]
     },
     "metadata": {},
     "output_type": "display_data"
    }
   ],
   "source": [
    "# Create figure\n",
    "fig = go.Figure()\n",
    "\n",
    "for df, label, color in zip(dfs, labels, colors):\n",
    "    # Extract S/B values and errors\n",
    "    sb_row = df[df[\"Process\"] == \"S/B\"].iloc[0]\n",
    "    sb_values = []\n",
    "    sb_errors = []\n",
    "    for threshold in thresholds:\n",
    "        value, error = extract_value_and_error(sb_row[str(threshold)])\n",
    "        sb_values.append(value)\n",
    "        sb_errors.append(error)\n",
    "\n",
    "    # Convert to numpy arrays for easier calculations\n",
    "    sb_values = np.array(sb_values)\n",
    "    sb_errors = np.array(sb_errors)\n",
    "\n",
    "    # Add trace for the central S/B values\n",
    "    fig.add_trace(\n",
    "        go.Scatter(\n",
    "            x=thresholds, y=sb_values, mode=\"lines\", name=f\"S/B ({label})\", line=dict(color=color)\n",
    "        )\n",
    "    )\n",
    "\n",
    "    # Add error bands\n",
    "    fig.add_trace(\n",
    "        go.Scatter(\n",
    "            x=thresholds + thresholds[::-1],\n",
    "            y=np.concatenate([sb_values + sb_errors, (sb_values - sb_errors)[::-1]]),\n",
    "            fill=\"toself\",\n",
    "            fillcolor=color.replace(\"rgb\", \"rgba\").replace(\")\", \",0.2)\"),  # Add transparency\n",
    "            line=dict(color=\"rgba(255,255,255,0)\"),\n",
    "            hoverinfo=\"skip\",\n",
    "            name=f\"Error band ({label})\",\n",
    "        )\n",
    "    )\n",
    "\n",
    "# Update layout\n",
    "fig.update_layout(\n",
    "    title=\"Signal to Background Ratio vs Threshold\",\n",
    "    xaxis_title=\"Threshold\",\n",
    "    yaxis_title=\"S/B Ratio\",\n",
    "    yaxis_type=\"log\",\n",
    "    legend_title=\"Legend\",\n",
    "    xaxis=dict(tickmode=\"array\", tickvals=thresholds, ticktext=[f\"{t:.3f}\" for t in thresholds]),\n",
    ")\n",
    "\n",
    "# Show the plot\n",
    "fig.show()"
   ]
  },
  {
   "cell_type": "code",
   "execution_count": 15,
   "metadata": {},
   "outputs": [
    {
     "data": {
      "text/html": [
       "<div>\n",
       "<style scoped>\n",
       "    .dataframe tbody tr th:only-of-type {\n",
       "        vertical-align: middle;\n",
       "    }\n",
       "\n",
       "    .dataframe tbody tr th {\n",
       "        vertical-align: top;\n",
       "    }\n",
       "\n",
       "    .dataframe thead th {\n",
       "        text-align: right;\n",
       "    }\n",
       "</style>\n",
       "<table border=\"1\" class=\"dataframe\">\n",
       "  <thead>\n",
       "    <tr style=\"text-align: right;\">\n",
       "      <th></th>\n",
       "      <th>0.2</th>\n",
       "      <th>0.5</th>\n",
       "      <th>0.8</th>\n",
       "      <th>0.9</th>\n",
       "      <th>0.925</th>\n",
       "      <th>0.95</th>\n",
       "      <th>0.96</th>\n",
       "      <th>0.97</th>\n",
       "      <th>0.98</th>\n",
       "      <th>0.99</th>\n",
       "      <th>Process</th>\n",
       "    </tr>\n",
       "  </thead>\n",
       "  <tbody>\n",
       "    <tr>\n",
       "      <th>0</th>\n",
       "      <td>6.18223e-05 ± 7.65271e-07</td>\n",
       "      <td>6.18223e-05 ± 7.65271e-07</td>\n",
       "      <td>6.18223e-05 ± 7.65271e-07</td>\n",
       "      <td>4.332e-05 ± 1.078e-05</td>\n",
       "      <td>3.03408e-05 ± 9.62135e-07</td>\n",
       "      <td>1.64236e-05 ± 8.24784e-07</td>\n",
       "      <td>9.3763e-06 ± 3.6185e-07</td>\n",
       "      <td>3.4632e-06 ± 1.3341e-07</td>\n",
       "      <td>6.4629e-07 ± 5.7994e-08</td>\n",
       "      <td>5.584e-08 ± 3.561e-08</td>\n",
       "      <td>BKG:ff_HW</td>\n",
       "    </tr>\n",
       "    <tr>\n",
       "      <th>1</th>\n",
       "      <td>5.11999e-05 ± 8.57546e-07</td>\n",
       "      <td>5.11999e-05 ± 8.57546e-07</td>\n",
       "      <td>5.11999e-05 ± 8.57546e-07</td>\n",
       "      <td>3.5462e-05 ± 9.6213e-06</td>\n",
       "      <td>2.50293e-05 ± 9.02187e-07</td>\n",
       "      <td>1.35913e-05 ± 5.26367e-07</td>\n",
       "      <td>8.0364e-06 ± 2.7674e-07</td>\n",
       "      <td>2.7577e-06 ± 2.4684e-07</td>\n",
       "      <td>5.8677e-07 ± 8.8268e-08</td>\n",
       "      <td>1.3110e-07 ± 5.1391e-08</td>\n",
       "      <td>BKG:ff_HZ</td>\n",
       "    </tr>\n",
       "    <tr>\n",
       "      <th>2</th>\n",
       "      <td>3.0367e+00 ± 3.0158e-01</td>\n",
       "      <td>3.0367e+00 ± 3.0158e-01</td>\n",
       "      <td>3.0367e+00 ± 3.0158e-01</td>\n",
       "      <td>1.012e+00 ± 1.189e+00</td>\n",
       "      <td>2.1385e-01 ± 4.5160e-02</td>\n",
       "      <td>7.90e-03 ± 1.08e-02</td>\n",
       "      <td>3.936e-03 ± 8.800e-03</td>\n",
       "      <td>0.000e+00 ± 0.000e+00</td>\n",
       "      <td>0.000e+00 ± 0.000e+00</td>\n",
       "      <td>0.000e+00 ± 0.000e+00</td>\n",
       "      <td>BKG:ff_Hff</td>\n",
       "    </tr>\n",
       "    <tr>\n",
       "      <th>3</th>\n",
       "      <td>4.1429e+00 ± 6.1893e-01</td>\n",
       "      <td>4.1429e+00 ± 6.1893e-01</td>\n",
       "      <td>4.1429e+00 ± 6.1893e-01</td>\n",
       "      <td>1.252e+00 ± 1.385e+00</td>\n",
       "      <td>2.130e-01 ± 1.412e-01</td>\n",
       "      <td>2.377e-02 ± 3.555e-02</td>\n",
       "      <td>7.96e-03 ± 1.78e-02</td>\n",
       "      <td>0.000e+00 ± 0.000e+00</td>\n",
       "      <td>0.000e+00 ± 0.000e+00</td>\n",
       "      <td>0.000e+00 ± 0.000e+00</td>\n",
       "      <td>BKG:ff_Hff2</td>\n",
       "    </tr>\n",
       "    <tr>\n",
       "      <th>4</th>\n",
       "      <td>1.970986e-01 ± 6.003548e-04</td>\n",
       "      <td>1.970986e-01 ± 6.003548e-04</td>\n",
       "      <td>1.970986e-01 ± 6.003548e-04</td>\n",
       "      <td>1.6280e-01 ± 1.9475e-02</td>\n",
       "      <td>1.32821e-01 ± 1.20513e-03</td>\n",
       "      <td>8.2055e-02 ± 1.4505e-03</td>\n",
       "      <td>5.1228e-02 ± 1.2449e-03</td>\n",
       "      <td>1.9540e-02 ± 1.2693e-03</td>\n",
       "      <td>4.0918e-03 ± 4.4160e-04</td>\n",
       "      <td>7.462e-04 ± 2.608e-04</td>\n",
       "      <td>BKG:ff_WW_bkg</td>\n",
       "    </tr>\n",
       "    <tr>\n",
       "      <th>5</th>\n",
       "      <td>7.1573e-03 ± 5.8605e-04</td>\n",
       "      <td>7.1573e-03 ± 5.8605e-04</td>\n",
       "      <td>7.1573e-03 ± 5.8605e-04</td>\n",
       "      <td>4.201e-03 ± 1.496e-03</td>\n",
       "      <td>2.5029e-03 ± 3.2091e-04</td>\n",
       "      <td>9.600e-04 ± 1.812e-04</td>\n",
       "      <td>4.409e-04 ± 1.123e-04</td>\n",
       "      <td>1.0186e-04 ± 2.7550e-05</td>\n",
       "      <td>6.765e-06 ± 9.264e-06</td>\n",
       "      <td>0.000e+00 ± 0.000e+00</td>\n",
       "      <td>BKG:ff_ZW_bkg</td>\n",
       "    </tr>\n",
       "    <tr>\n",
       "      <th>6</th>\n",
       "      <td>5.56318e-03 ± 4.54129e-05</td>\n",
       "      <td>5.56318e-03 ± 4.54129e-05</td>\n",
       "      <td>5.56318e-03 ± 4.54129e-05</td>\n",
       "      <td>4.1438e-03 ± 7.8611e-04</td>\n",
       "      <td>3.05978e-03 ± 4.80027e-05</td>\n",
       "      <td>1.70375e-03 ± 3.83726e-05</td>\n",
       "      <td>1.02782e-03 ± 5.94553e-05</td>\n",
       "      <td>3.5783e-04 ± 1.6189e-05</td>\n",
       "      <td>5.500e-05 ± 1.206e-05</td>\n",
       "      <td>5.930e-06 ± 4.840e-06</td>\n",
       "      <td>BKG:ff_gmZgmZ_bkg</td>\n",
       "    </tr>\n",
       "    <tr>\n",
       "      <th>7</th>\n",
       "      <td>2.0657e-02 ± 1.0871e-03</td>\n",
       "      <td>2.0657e-02 ± 1.0871e-03</td>\n",
       "      <td>2.0657e-02 ± 1.0871e-03</td>\n",
       "      <td>1.6272e-02 ± 3.2268e-03</td>\n",
       "      <td>1.26249e-02 ± 6.36074e-04</td>\n",
       "      <td>7.1692e-03 ± 4.6861e-04</td>\n",
       "      <td>4.3379e-03 ± 3.5819e-04</td>\n",
       "      <td>1.4328e-03 ± 2.7065e-04</td>\n",
       "      <td>3.564e-04 ± 1.093e-04</td>\n",
       "      <td>1.0761e-04 ± 2.2528e-05</td>\n",
       "      <td>BKG:ffbar_Wgm</td>\n",
       "    </tr>\n",
       "    <tr>\n",
       "      <th>8</th>\n",
       "      <td>1.3404e-02 ± 4.0601e-03</td>\n",
       "      <td>1.3404e-02 ± 4.0601e-03</td>\n",
       "      <td>1.3404e-02 ± 4.0601e-03</td>\n",
       "      <td>7.303e-03 ± 2.487e-03</td>\n",
       "      <td>4.199e-03 ± 1.895e-03</td>\n",
       "      <td>8.114e-04 ± 5.656e-04</td>\n",
       "      <td>4.049e-04 ± 3.696e-04</td>\n",
       "      <td>0.000e+00 ± 0.000e+00</td>\n",
       "      <td>0.000e+00 ± 0.000e+00</td>\n",
       "      <td>0.000e+00 ± 0.000e+00</td>\n",
       "      <td>BKG:gg_Hg</td>\n",
       "    </tr>\n",
       "    <tr>\n",
       "      <th>9</th>\n",
       "      <td>2.01615e-03 ± 2.94173e-05</td>\n",
       "      <td>2.01615e-03 ± 2.94173e-05</td>\n",
       "      <td>2.01615e-03 ± 2.94173e-05</td>\n",
       "      <td>1.4853e-03 ± 2.6998e-04</td>\n",
       "      <td>1.06020e-03 ± 1.80758e-05</td>\n",
       "      <td>4.89793e-04 ± 9.11248e-06</td>\n",
       "      <td>2.35847e-04 ± 4.79702e-06</td>\n",
       "      <td>4.5399e-05 ± 3.1059e-06</td>\n",
       "      <td>3.471e-06 ± 1.054e-06</td>\n",
       "      <td>2.937e-07 ± 3.597e-07</td>\n",
       "      <td>BKG:gg_Httbar</td>\n",
       "    </tr>\n",
       "    <tr>\n",
       "      <th>10</th>\n",
       "      <td>7.1613e-02 ± 7.0699e-03</td>\n",
       "      <td>7.1613e-02 ± 7.0699e-03</td>\n",
       "      <td>7.1613e-02 ± 7.0699e-03</td>\n",
       "      <td>3.997e-02 ± 1.532e-02</td>\n",
       "      <td>1.8282e-02 ± 6.9780e-03</td>\n",
       "      <td>5.218e-03 ± 1.955e-03</td>\n",
       "      <td>1.740e-03 ± 1.892e-03</td>\n",
       "      <td>2.880e-04 ± 6.440e-04</td>\n",
       "      <td>0.000e+00 ± 0.000e+00</td>\n",
       "      <td>0.000e+00 ± 0.000e+00</td>\n",
       "      <td>BKG:gg_bbbar</td>\n",
       "    </tr>\n",
       "    <tr>\n",
       "      <th>11</th>\n",
       "      <td>6.102e-02 ± 4.235e-02</td>\n",
       "      <td>6.102e-02 ± 4.235e-02</td>\n",
       "      <td>6.102e-02 ± 4.235e-02</td>\n",
       "      <td>3.326e-02 ± 3.990e-02</td>\n",
       "      <td>1.111e-02 ± 1.814e-02</td>\n",
       "      <td>2.783e-03 ± 6.223e-03</td>\n",
       "      <td>2.783e-03 ± 6.223e-03</td>\n",
       "      <td>0.000e+00 ± 0.000e+00</td>\n",
       "      <td>0.000e+00 ± 0.000e+00</td>\n",
       "      <td>0.000e+00 ± 0.000e+00</td>\n",
       "      <td>BKG:gg_ccbar</td>\n",
       "    </tr>\n",
       "    <tr>\n",
       "      <th>12</th>\n",
       "      <td>0.000e+00 ± 0.000e+00</td>\n",
       "      <td>0.000e+00 ± 0.000e+00</td>\n",
       "      <td>0.000e+00 ± 0.000e+00</td>\n",
       "      <td>0.000e+00 ± 0.000e+00</td>\n",
       "      <td>0.000e+00 ± 0.000e+00</td>\n",
       "      <td>0.000e+00 ± 0.000e+00</td>\n",
       "      <td>0.000e+00 ± 0.000e+00</td>\n",
       "      <td>0.000e+00 ± 0.000e+00</td>\n",
       "      <td>0.000e+00 ± 0.000e+00</td>\n",
       "      <td>0.000e+00 ± 0.000e+00</td>\n",
       "      <td>BKG:gg_gg</td>\n",
       "    </tr>\n",
       "    <tr>\n",
       "      <th>13</th>\n",
       "      <td>4.2137e-06 ± 4.8010e-07</td>\n",
       "      <td>4.2137e-06 ± 4.8010e-07</td>\n",
       "      <td>4.2137e-06 ± 4.8010e-07</td>\n",
       "      <td>2.4321e-06 ± 6.6711e-07</td>\n",
       "      <td>1.3953e-06 ± 2.4648e-07</td>\n",
       "      <td>4.7461e-07 ± 9.8794e-08</td>\n",
       "      <td>1.8477e-07 ± 5.9787e-08</td>\n",
       "      <td>3.978e-08 ± 1.556e-08</td>\n",
       "      <td>5.694e-09 ± 7.797e-09</td>\n",
       "      <td>2.842e-09 ± 6.354e-09</td>\n",
       "      <td>BKG:gg_hbb_hadronic</td>\n",
       "    </tr>\n",
       "    <tr>\n",
       "      <th>14</th>\n",
       "      <td>2.423e-01 ± 1.205e-01</td>\n",
       "      <td>2.423e-01 ± 1.205e-01</td>\n",
       "      <td>2.423e-01 ± 1.205e-01</td>\n",
       "      <td>9.68e-02 ± 1.58e-01</td>\n",
       "      <td>2.425e-02 ± 5.423e-02</td>\n",
       "      <td>0.000e+00 ± 0.000e+00</td>\n",
       "      <td>0.000e+00 ± 0.000e+00</td>\n",
       "      <td>0.000e+00 ± 0.000e+00</td>\n",
       "      <td>0.000e+00 ± 0.000e+00</td>\n",
       "      <td>0.000e+00 ± 0.000e+00</td>\n",
       "      <td>BKG:gg_qqbar</td>\n",
       "    </tr>\n",
       "    <tr>\n",
       "      <th>15</th>\n",
       "      <td>3.0681e-02 ± 1.0318e-03</td>\n",
       "      <td>3.0681e-02 ± 1.0318e-03</td>\n",
       "      <td>3.0681e-02 ± 1.0318e-03</td>\n",
       "      <td>1.5844e-02 ± 7.4122e-03</td>\n",
       "      <td>7.6268e-03 ± 3.8511e-04</td>\n",
       "      <td>2.1231e-03 ± 2.1857e-04</td>\n",
       "      <td>6.315e-04 ± 1.526e-04</td>\n",
       "      <td>9.250e-05 ± 5.076e-05</td>\n",
       "      <td>2.016e-05 ± 2.476e-05</td>\n",
       "      <td>4.017e-06 ± 8.982e-06</td>\n",
       "      <td>BKG:gg_ttbar_bkg_hadronic</td>\n",
       "    </tr>\n",
       "    <tr>\n",
       "      <th>16</th>\n",
       "      <td>1.10430e-07 ± 5.50919e-09</td>\n",
       "      <td>1.10430e-07 ± 5.50919e-09</td>\n",
       "      <td>1.10430e-07 ± 5.50919e-09</td>\n",
       "      <td>6.073e-08 ± 3.033e-08</td>\n",
       "      <td>3.0855e-08 ± 2.2489e-09</td>\n",
       "      <td>9.543e-09 ± 1.324e-09</td>\n",
       "      <td>3.7552e-09 ± 9.8016e-10</td>\n",
       "      <td>2.542e-10 ± 1.421e-10</td>\n",
       "      <td>6.40e-11 ± 1.43e-10</td>\n",
       "      <td>0.000e+00 ± 0.000e+00</td>\n",
       "      <td>BKG:qg_Hq</td>\n",
       "    </tr>\n",
       "    <tr>\n",
       "      <th>17</th>\n",
       "      <td>1.7500e-01 ± 4.4948e-02</td>\n",
       "      <td>1.7500e-01 ± 4.4948e-02</td>\n",
       "      <td>1.7500e-01 ± 4.4948e-02</td>\n",
       "      <td>7.670e-02 ± 2.763e-02</td>\n",
       "      <td>2.880e-02 ± 2.264e-02</td>\n",
       "      <td>8.61e-03 ± 1.28e-02</td>\n",
       "      <td>1.434e-03 ± 3.206e-03</td>\n",
       "      <td>0.000e+00 ± 0.000e+00</td>\n",
       "      <td>0.000e+00 ± 0.000e+00</td>\n",
       "      <td>0.000e+00 ± 0.000e+00</td>\n",
       "      <td>BKG:qg_Hq_loop</td>\n",
       "    </tr>\n",
       "    <tr>\n",
       "      <th>18</th>\n",
       "      <td>9.3997e-01 ± 5.6489e-02</td>\n",
       "      <td>9.3997e-01 ± 5.6489e-02</td>\n",
       "      <td>9.3997e-01 ± 5.6489e-02</td>\n",
       "      <td>6.548e-01 ± 1.398e-01</td>\n",
       "      <td>4.5021e-01 ± 6.1531e-02</td>\n",
       "      <td>2.4521e-01 ± 4.7759e-02</td>\n",
       "      <td>1.2258e-01 ± 2.9270e-02</td>\n",
       "      <td>2.991e-02 ± 1.403e-02</td>\n",
       "      <td>2.520e-03 ± 5.636e-03</td>\n",
       "      <td>0.000e+00 ± 0.000e+00</td>\n",
       "      <td>BKG:qg_Wj_hadronic</td>\n",
       "    </tr>\n",
       "    <tr>\n",
       "      <th>19</th>\n",
       "      <td>0.000e+00 ± 0.000e+00</td>\n",
       "      <td>0.000e+00 ± 0.000e+00</td>\n",
       "      <td>0.000e+00 ± 0.000e+00</td>\n",
       "      <td>0.000e+00 ± 0.000e+00</td>\n",
       "      <td>0.000e+00 ± 0.000e+00</td>\n",
       "      <td>0.000e+00 ± 0.000e+00</td>\n",
       "      <td>0.000e+00 ± 0.000e+00</td>\n",
       "      <td>0.000e+00 ± 0.000e+00</td>\n",
       "      <td>0.000e+00 ± 0.000e+00</td>\n",
       "      <td>0.000e+00 ± 0.000e+00</td>\n",
       "      <td>BKG:qg_qg</td>\n",
       "    </tr>\n",
       "    <tr>\n",
       "      <th>20</th>\n",
       "      <td>2.29657e-03 ± 2.59068e-05</td>\n",
       "      <td>2.29657e-03 ± 2.59068e-05</td>\n",
       "      <td>2.29657e-03 ± 2.59068e-05</td>\n",
       "      <td>1.7930e-03 ± 2.8801e-04</td>\n",
       "      <td>1.35419e-03 ± 1.55522e-05</td>\n",
       "      <td>7.1225e-04 ± 1.5411e-05</td>\n",
       "      <td>3.77952e-04 ± 9.31186e-06</td>\n",
       "      <td>1.03934e-04 ± 5.73288e-06</td>\n",
       "      <td>1.6624e-05 ± 2.5078e-06</td>\n",
       "      <td>2.9102e-06 ± 9.7174e-07</td>\n",
       "      <td>BKG:qq_Httbar</td>\n",
       "    </tr>\n",
       "    <tr>\n",
       "      <th>21</th>\n",
       "      <td>1.34075e-06 ± 1.16600e-08</td>\n",
       "      <td>1.34075e-06 ± 1.16600e-08</td>\n",
       "      <td>1.34075e-06 ± 1.16600e-08</td>\n",
       "      <td>1.0611e-06 ± 1.5230e-07</td>\n",
       "      <td>8.20175e-07 ± 5.54800e-09</td>\n",
       "      <td>4.2689e-07 ± 1.2593e-08</td>\n",
       "      <td>2.14482e-07 ± 7.80540e-09</td>\n",
       "      <td>4.7148e-08 ± 3.0284e-09</td>\n",
       "      <td>6.365e-09 ± 1.391e-09</td>\n",
       "      <td>1.1025e-09 ± 1.9315e-10</td>\n",
       "      <td>BKG:qq_hbb_hadronic</td>\n",
       "    </tr>\n",
       "    <tr>\n",
       "      <th>22</th>\n",
       "      <td>0.000e+00 ± 0.000e+00</td>\n",
       "      <td>0.000e+00 ± 0.000e+00</td>\n",
       "      <td>0.000e+00 ± 0.000e+00</td>\n",
       "      <td>0.000e+00 ± 0.000e+00</td>\n",
       "      <td>0.000e+00 ± 0.000e+00</td>\n",
       "      <td>0.000e+00 ± 0.000e+00</td>\n",
       "      <td>0.000e+00 ± 0.000e+00</td>\n",
       "      <td>0.000e+00 ± 0.000e+00</td>\n",
       "      <td>0.000e+00 ± 0.000e+00</td>\n",
       "      <td>0.000e+00 ± 0.000e+00</td>\n",
       "      <td>BKG:qq_qq</td>\n",
       "    </tr>\n",
       "    <tr>\n",
       "      <th>23</th>\n",
       "      <td>3.17972e-02 ± 7.79952e-04</td>\n",
       "      <td>3.17972e-02 ± 7.79952e-04</td>\n",
       "      <td>3.17972e-02 ± 7.79952e-04</td>\n",
       "      <td>1.9191e-02 ± 6.6199e-03</td>\n",
       "      <td>1.12199e-02 ± 1.14664e-04</td>\n",
       "      <td>4.2170e-03 ± 2.5481e-04</td>\n",
       "      <td>1.7449e-03 ± 1.2077e-04</td>\n",
       "      <td>3.461e-04 ± 1.042e-04</td>\n",
       "      <td>2.812e-05 ± 2.278e-05</td>\n",
       "      <td>4.000e-06 ± 8.943e-06</td>\n",
       "      <td>BKG:qq_ttbar_bkg_hadronic</td>\n",
       "    </tr>\n",
       "    <tr>\n",
       "      <th>24</th>\n",
       "      <td>1.6297e+00 ± 1.1475e-01</td>\n",
       "      <td>1.6297e+00 ± 1.1475e-01</td>\n",
       "      <td>1.6297e+00 ± 1.1475e-01</td>\n",
       "      <td>1.2490e+00 ± 2.1858e-01</td>\n",
       "      <td>9.8100e-01 ± 5.3801e-02</td>\n",
       "      <td>5.5821e-01 ± 7.1858e-02</td>\n",
       "      <td>3.3991e-01 ± 4.5452e-02</td>\n",
       "      <td>1.2467e-01 ± 4.6955e-02</td>\n",
       "      <td>3.178e-02 ± 1.330e-02</td>\n",
       "      <td>8.422e-03 ± 6.093e-03</td>\n",
       "      <td>BKG:qqbar_Wj_hadronic</td>\n",
       "    </tr>\n",
       "    <tr>\n",
       "      <th>25</th>\n",
       "      <td>7.92297e-02 ± 8.10908e-04</td>\n",
       "      <td>7.92297e-02 ± 8.10908e-04</td>\n",
       "      <td>7.92297e-02 ± 8.10908e-04</td>\n",
       "      <td>4.883e-02 ± 1.656e-02</td>\n",
       "      <td>2.83910e-02 ± 6.55736e-04</td>\n",
       "      <td>1.02025e-02 ± 5.76447e-04</td>\n",
       "      <td>4.3110e-03 ± 4.4297e-04</td>\n",
       "      <td>6.830e-04 ± 2.004e-04</td>\n",
       "      <td>5.187e-05 ± 1.944e-05</td>\n",
       "      <td>8.66e-06 ± 1.94e-05</td>\n",
       "      <td>BKG:qqbar_bbbar</td>\n",
       "    </tr>\n",
       "    <tr>\n",
       "      <th>26</th>\n",
       "      <td>5.99968e-02 ± 7.70418e-04</td>\n",
       "      <td>5.99968e-02 ± 7.70418e-04</td>\n",
       "      <td>5.99968e-02 ± 7.70418e-04</td>\n",
       "      <td>3.427e-02 ± 1.369e-02</td>\n",
       "      <td>1.88067e-02 ± 5.26016e-04</td>\n",
       "      <td>6.3124e-03 ± 5.8912e-04</td>\n",
       "      <td>2.3415e-03 ± 4.5144e-04</td>\n",
       "      <td>3.559e-04 ± 1.832e-04</td>\n",
       "      <td>1.734e-05 ± 2.374e-05</td>\n",
       "      <td>0.000e+00 ± 0.000e+00</td>\n",
       "      <td>BKG:qqbar_ccbar</td>\n",
       "    </tr>\n",
       "    <tr>\n",
       "      <th>27</th>\n",
       "      <td>4.1454e+00 ± 9.0507e-01</td>\n",
       "      <td>4.1454e+00 ± 9.0507e-01</td>\n",
       "      <td>4.1454e+00 ± 9.0507e-01</td>\n",
       "      <td>3.203e+00 ± 1.424e+00</td>\n",
       "      <td>2.075e+00 ± 1.089e+00</td>\n",
       "      <td>1.0395e+00 ± 7.8088e-01</td>\n",
       "      <td>5.649e-01 ± 5.134e-01</td>\n",
       "      <td>0.000e+00 ± 0.000e+00</td>\n",
       "      <td>0.000e+00 ± 0.000e+00</td>\n",
       "      <td>0.000e+00 ± 0.000e+00</td>\n",
       "      <td>BKG:qqbar_gg</td>\n",
       "    </tr>\n",
       "    <tr>\n",
       "      <th>28</th>\n",
       "      <td>1.34553e-01 ± 3.40796e-03</td>\n",
       "      <td>1.34553e-01 ± 3.40796e-03</td>\n",
       "      <td>1.34553e-01 ± 3.40796e-03</td>\n",
       "      <td>7.004e-02 ± 3.446e-02</td>\n",
       "      <td>3.3888e-02 ± 1.6710e-03</td>\n",
       "      <td>1.01386e-02 ± 8.24994e-04</td>\n",
       "      <td>3.8573e-03 ± 7.6977e-04</td>\n",
       "      <td>5.455e-04 ± 4.200e-04</td>\n",
       "      <td>2.633e-05 ± 5.888e-05</td>\n",
       "      <td>0.000e+00 ± 0.000e+00</td>\n",
       "      <td>BKG:qqbar_qqbarNew</td>\n",
       "    </tr>\n",
       "    <tr>\n",
       "      <th>29</th>\n",
       "      <td>1.7454445e+00 ± 5.6775589e-04</td>\n",
       "      <td>1.7454445e+00 ± 5.6775589e-04</td>\n",
       "      <td>1.7454445e+00 ± 5.6775589e-04</td>\n",
       "      <td>1.742674e+00 ± 1.392789e-03</td>\n",
       "      <td>1.738444e+00 ± 1.070122e-03</td>\n",
       "      <td>1.716224e+00 ± 2.653510e-03</td>\n",
       "      <td>1.675755e+00 ± 1.043718e-03</td>\n",
       "      <td>1.523946e+00 ± 4.207882e-03</td>\n",
       "      <td>1.070410e+00 ± 3.172198e-03</td>\n",
       "      <td>5.40933e-01 ± 6.61864e-03</td>\n",
       "      <td>SIG:Suu</td>\n",
       "    </tr>\n",
       "    <tr>\n",
       "      <th>30</th>\n",
       "      <td>1.5029e+01 ± 1.2509e+00</td>\n",
       "      <td>1.5029e+01 ± 1.2509e+00</td>\n",
       "      <td>1.5029e+01 ± 1.2509e+00</td>\n",
       "      <td>8.004e+00 ± 4.640e+00</td>\n",
       "      <td>4.273e+00 ± 1.142e+00</td>\n",
       "      <td>2.0181e+00 ± 7.9454e-01</td>\n",
       "      <td>1.1162e+00 ± 5.0510e-01</td>\n",
       "      <td>1.7848e-01 ± 5.3588e-02</td>\n",
       "      <td>3.897e-02 ± 1.333e-02</td>\n",
       "      <td>9.302e-03 ± 6.146e-03</td>\n",
       "      <td>BKG:sum</td>\n",
       "    </tr>\n",
       "    <tr>\n",
       "      <th>31</th>\n",
       "      <td>1.1681e-01 ± 1.0086e-02</td>\n",
       "      <td>1.1681e-01 ± 1.0086e-02</td>\n",
       "      <td>1.1681e-01 ± 1.0086e-02</td>\n",
       "      <td>2.5996e-01 ± 9.3820e-02</td>\n",
       "      <td>4.353e-01 ± 1.363e-01</td>\n",
       "      <td>9.544e-01 ± 3.325e-01</td>\n",
       "      <td>1.8144e+00 ± 9.7493e-01</td>\n",
       "      <td>9.219e+00 ± 2.901e+00</td>\n",
       "      <td>3.120e+01 ± 1.441e+01</td>\n",
       "      <td>1.625e+02 ± 2.390e+02</td>\n",
       "      <td>S/B</td>\n",
       "    </tr>\n",
       "  </tbody>\n",
       "</table>\n",
       "</div>"
      ],
      "text/plain": [
       "                              0.2                            0.5  \\\n",
       "0       6.18223e-05 ± 7.65271e-07      6.18223e-05 ± 7.65271e-07   \n",
       "1       5.11999e-05 ± 8.57546e-07      5.11999e-05 ± 8.57546e-07   \n",
       "2         3.0367e+00 ± 3.0158e-01        3.0367e+00 ± 3.0158e-01   \n",
       "3         4.1429e+00 ± 6.1893e-01        4.1429e+00 ± 6.1893e-01   \n",
       "4     1.970986e-01 ± 6.003548e-04    1.970986e-01 ± 6.003548e-04   \n",
       "5         7.1573e-03 ± 5.8605e-04        7.1573e-03 ± 5.8605e-04   \n",
       "6       5.56318e-03 ± 4.54129e-05      5.56318e-03 ± 4.54129e-05   \n",
       "7         2.0657e-02 ± 1.0871e-03        2.0657e-02 ± 1.0871e-03   \n",
       "8         1.3404e-02 ± 4.0601e-03        1.3404e-02 ± 4.0601e-03   \n",
       "9       2.01615e-03 ± 2.94173e-05      2.01615e-03 ± 2.94173e-05   \n",
       "10        7.1613e-02 ± 7.0699e-03        7.1613e-02 ± 7.0699e-03   \n",
       "11          6.102e-02 ± 4.235e-02          6.102e-02 ± 4.235e-02   \n",
       "12          0.000e+00 ± 0.000e+00          0.000e+00 ± 0.000e+00   \n",
       "13        4.2137e-06 ± 4.8010e-07        4.2137e-06 ± 4.8010e-07   \n",
       "14          2.423e-01 ± 1.205e-01          2.423e-01 ± 1.205e-01   \n",
       "15        3.0681e-02 ± 1.0318e-03        3.0681e-02 ± 1.0318e-03   \n",
       "16      1.10430e-07 ± 5.50919e-09      1.10430e-07 ± 5.50919e-09   \n",
       "17        1.7500e-01 ± 4.4948e-02        1.7500e-01 ± 4.4948e-02   \n",
       "18        9.3997e-01 ± 5.6489e-02        9.3997e-01 ± 5.6489e-02   \n",
       "19          0.000e+00 ± 0.000e+00          0.000e+00 ± 0.000e+00   \n",
       "20      2.29657e-03 ± 2.59068e-05      2.29657e-03 ± 2.59068e-05   \n",
       "21      1.34075e-06 ± 1.16600e-08      1.34075e-06 ± 1.16600e-08   \n",
       "22          0.000e+00 ± 0.000e+00          0.000e+00 ± 0.000e+00   \n",
       "23      3.17972e-02 ± 7.79952e-04      3.17972e-02 ± 7.79952e-04   \n",
       "24        1.6297e+00 ± 1.1475e-01        1.6297e+00 ± 1.1475e-01   \n",
       "25      7.92297e-02 ± 8.10908e-04      7.92297e-02 ± 8.10908e-04   \n",
       "26      5.99968e-02 ± 7.70418e-04      5.99968e-02 ± 7.70418e-04   \n",
       "27        4.1454e+00 ± 9.0507e-01        4.1454e+00 ± 9.0507e-01   \n",
       "28      1.34553e-01 ± 3.40796e-03      1.34553e-01 ± 3.40796e-03   \n",
       "29  1.7454445e+00 ± 5.6775589e-04  1.7454445e+00 ± 5.6775589e-04   \n",
       "30        1.5029e+01 ± 1.2509e+00        1.5029e+01 ± 1.2509e+00   \n",
       "31        1.1681e-01 ± 1.0086e-02        1.1681e-01 ± 1.0086e-02   \n",
       "\n",
       "                              0.8                          0.9  \\\n",
       "0       6.18223e-05 ± 7.65271e-07        4.332e-05 ± 1.078e-05   \n",
       "1       5.11999e-05 ± 8.57546e-07      3.5462e-05 ± 9.6213e-06   \n",
       "2         3.0367e+00 ± 3.0158e-01        1.012e+00 ± 1.189e+00   \n",
       "3         4.1429e+00 ± 6.1893e-01        1.252e+00 ± 1.385e+00   \n",
       "4     1.970986e-01 ± 6.003548e-04      1.6280e-01 ± 1.9475e-02   \n",
       "5         7.1573e-03 ± 5.8605e-04        4.201e-03 ± 1.496e-03   \n",
       "6       5.56318e-03 ± 4.54129e-05      4.1438e-03 ± 7.8611e-04   \n",
       "7         2.0657e-02 ± 1.0871e-03      1.6272e-02 ± 3.2268e-03   \n",
       "8         1.3404e-02 ± 4.0601e-03        7.303e-03 ± 2.487e-03   \n",
       "9       2.01615e-03 ± 2.94173e-05      1.4853e-03 ± 2.6998e-04   \n",
       "10        7.1613e-02 ± 7.0699e-03        3.997e-02 ± 1.532e-02   \n",
       "11          6.102e-02 ± 4.235e-02        3.326e-02 ± 3.990e-02   \n",
       "12          0.000e+00 ± 0.000e+00        0.000e+00 ± 0.000e+00   \n",
       "13        4.2137e-06 ± 4.8010e-07      2.4321e-06 ± 6.6711e-07   \n",
       "14          2.423e-01 ± 1.205e-01          9.68e-02 ± 1.58e-01   \n",
       "15        3.0681e-02 ± 1.0318e-03      1.5844e-02 ± 7.4122e-03   \n",
       "16      1.10430e-07 ± 5.50919e-09        6.073e-08 ± 3.033e-08   \n",
       "17        1.7500e-01 ± 4.4948e-02        7.670e-02 ± 2.763e-02   \n",
       "18        9.3997e-01 ± 5.6489e-02        6.548e-01 ± 1.398e-01   \n",
       "19          0.000e+00 ± 0.000e+00        0.000e+00 ± 0.000e+00   \n",
       "20      2.29657e-03 ± 2.59068e-05      1.7930e-03 ± 2.8801e-04   \n",
       "21      1.34075e-06 ± 1.16600e-08      1.0611e-06 ± 1.5230e-07   \n",
       "22          0.000e+00 ± 0.000e+00        0.000e+00 ± 0.000e+00   \n",
       "23      3.17972e-02 ± 7.79952e-04      1.9191e-02 ± 6.6199e-03   \n",
       "24        1.6297e+00 ± 1.1475e-01      1.2490e+00 ± 2.1858e-01   \n",
       "25      7.92297e-02 ± 8.10908e-04        4.883e-02 ± 1.656e-02   \n",
       "26      5.99968e-02 ± 7.70418e-04        3.427e-02 ± 1.369e-02   \n",
       "27        4.1454e+00 ± 9.0507e-01        3.203e+00 ± 1.424e+00   \n",
       "28      1.34553e-01 ± 3.40796e-03        7.004e-02 ± 3.446e-02   \n",
       "29  1.7454445e+00 ± 5.6775589e-04  1.742674e+00 ± 1.392789e-03   \n",
       "30        1.5029e+01 ± 1.2509e+00        8.004e+00 ± 4.640e+00   \n",
       "31        1.1681e-01 ± 1.0086e-02      2.5996e-01 ± 9.3820e-02   \n",
       "\n",
       "                          0.925                         0.95  \\\n",
       "0     3.03408e-05 ± 9.62135e-07    1.64236e-05 ± 8.24784e-07   \n",
       "1     2.50293e-05 ± 9.02187e-07    1.35913e-05 ± 5.26367e-07   \n",
       "2       2.1385e-01 ± 4.5160e-02          7.90e-03 ± 1.08e-02   \n",
       "3         2.130e-01 ± 1.412e-01        2.377e-02 ± 3.555e-02   \n",
       "4     1.32821e-01 ± 1.20513e-03      8.2055e-02 ± 1.4505e-03   \n",
       "5       2.5029e-03 ± 3.2091e-04        9.600e-04 ± 1.812e-04   \n",
       "6     3.05978e-03 ± 4.80027e-05    1.70375e-03 ± 3.83726e-05   \n",
       "7     1.26249e-02 ± 6.36074e-04      7.1692e-03 ± 4.6861e-04   \n",
       "8         4.199e-03 ± 1.895e-03        8.114e-04 ± 5.656e-04   \n",
       "9     1.06020e-03 ± 1.80758e-05    4.89793e-04 ± 9.11248e-06   \n",
       "10      1.8282e-02 ± 6.9780e-03        5.218e-03 ± 1.955e-03   \n",
       "11        1.111e-02 ± 1.814e-02        2.783e-03 ± 6.223e-03   \n",
       "12        0.000e+00 ± 0.000e+00        0.000e+00 ± 0.000e+00   \n",
       "13      1.3953e-06 ± 2.4648e-07      4.7461e-07 ± 9.8794e-08   \n",
       "14        2.425e-02 ± 5.423e-02        0.000e+00 ± 0.000e+00   \n",
       "15      7.6268e-03 ± 3.8511e-04      2.1231e-03 ± 2.1857e-04   \n",
       "16      3.0855e-08 ± 2.2489e-09        9.543e-09 ± 1.324e-09   \n",
       "17        2.880e-02 ± 2.264e-02          8.61e-03 ± 1.28e-02   \n",
       "18      4.5021e-01 ± 6.1531e-02      2.4521e-01 ± 4.7759e-02   \n",
       "19        0.000e+00 ± 0.000e+00        0.000e+00 ± 0.000e+00   \n",
       "20    1.35419e-03 ± 1.55522e-05      7.1225e-04 ± 1.5411e-05   \n",
       "21    8.20175e-07 ± 5.54800e-09      4.2689e-07 ± 1.2593e-08   \n",
       "22        0.000e+00 ± 0.000e+00        0.000e+00 ± 0.000e+00   \n",
       "23    1.12199e-02 ± 1.14664e-04      4.2170e-03 ± 2.5481e-04   \n",
       "24      9.8100e-01 ± 5.3801e-02      5.5821e-01 ± 7.1858e-02   \n",
       "25    2.83910e-02 ± 6.55736e-04    1.02025e-02 ± 5.76447e-04   \n",
       "26    1.88067e-02 ± 5.26016e-04      6.3124e-03 ± 5.8912e-04   \n",
       "27        2.075e+00 ± 1.089e+00      1.0395e+00 ± 7.8088e-01   \n",
       "28      3.3888e-02 ± 1.6710e-03    1.01386e-02 ± 8.24994e-04   \n",
       "29  1.738444e+00 ± 1.070122e-03  1.716224e+00 ± 2.653510e-03   \n",
       "30        4.273e+00 ± 1.142e+00      2.0181e+00 ± 7.9454e-01   \n",
       "31        4.353e-01 ± 1.363e-01        9.544e-01 ± 3.325e-01   \n",
       "\n",
       "                           0.96                         0.97  \\\n",
       "0       9.3763e-06 ± 3.6185e-07      3.4632e-06 ± 1.3341e-07   \n",
       "1       8.0364e-06 ± 2.7674e-07      2.7577e-06 ± 2.4684e-07   \n",
       "2         3.936e-03 ± 8.800e-03        0.000e+00 ± 0.000e+00   \n",
       "3           7.96e-03 ± 1.78e-02        0.000e+00 ± 0.000e+00   \n",
       "4       5.1228e-02 ± 1.2449e-03      1.9540e-02 ± 1.2693e-03   \n",
       "5         4.409e-04 ± 1.123e-04      1.0186e-04 ± 2.7550e-05   \n",
       "6     1.02782e-03 ± 5.94553e-05      3.5783e-04 ± 1.6189e-05   \n",
       "7       4.3379e-03 ± 3.5819e-04      1.4328e-03 ± 2.7065e-04   \n",
       "8         4.049e-04 ± 3.696e-04        0.000e+00 ± 0.000e+00   \n",
       "9     2.35847e-04 ± 4.79702e-06      4.5399e-05 ± 3.1059e-06   \n",
       "10        1.740e-03 ± 1.892e-03        2.880e-04 ± 6.440e-04   \n",
       "11        2.783e-03 ± 6.223e-03        0.000e+00 ± 0.000e+00   \n",
       "12        0.000e+00 ± 0.000e+00        0.000e+00 ± 0.000e+00   \n",
       "13      1.8477e-07 ± 5.9787e-08        3.978e-08 ± 1.556e-08   \n",
       "14        0.000e+00 ± 0.000e+00        0.000e+00 ± 0.000e+00   \n",
       "15        6.315e-04 ± 1.526e-04        9.250e-05 ± 5.076e-05   \n",
       "16      3.7552e-09 ± 9.8016e-10        2.542e-10 ± 1.421e-10   \n",
       "17        1.434e-03 ± 3.206e-03        0.000e+00 ± 0.000e+00   \n",
       "18      1.2258e-01 ± 2.9270e-02        2.991e-02 ± 1.403e-02   \n",
       "19        0.000e+00 ± 0.000e+00        0.000e+00 ± 0.000e+00   \n",
       "20    3.77952e-04 ± 9.31186e-06    1.03934e-04 ± 5.73288e-06   \n",
       "21    2.14482e-07 ± 7.80540e-09      4.7148e-08 ± 3.0284e-09   \n",
       "22        0.000e+00 ± 0.000e+00        0.000e+00 ± 0.000e+00   \n",
       "23      1.7449e-03 ± 1.2077e-04        3.461e-04 ± 1.042e-04   \n",
       "24      3.3991e-01 ± 4.5452e-02      1.2467e-01 ± 4.6955e-02   \n",
       "25      4.3110e-03 ± 4.4297e-04        6.830e-04 ± 2.004e-04   \n",
       "26      2.3415e-03 ± 4.5144e-04        3.559e-04 ± 1.832e-04   \n",
       "27        5.649e-01 ± 5.134e-01        0.000e+00 ± 0.000e+00   \n",
       "28      3.8573e-03 ± 7.6977e-04        5.455e-04 ± 4.200e-04   \n",
       "29  1.675755e+00 ± 1.043718e-03  1.523946e+00 ± 4.207882e-03   \n",
       "30      1.1162e+00 ± 5.0510e-01      1.7848e-01 ± 5.3588e-02   \n",
       "31      1.8144e+00 ± 9.7493e-01        9.219e+00 ± 2.901e+00   \n",
       "\n",
       "                           0.98                       0.99  \\\n",
       "0       6.4629e-07 ± 5.7994e-08      5.584e-08 ± 3.561e-08   \n",
       "1       5.8677e-07 ± 8.8268e-08    1.3110e-07 ± 5.1391e-08   \n",
       "2         0.000e+00 ± 0.000e+00      0.000e+00 ± 0.000e+00   \n",
       "3         0.000e+00 ± 0.000e+00      0.000e+00 ± 0.000e+00   \n",
       "4       4.0918e-03 ± 4.4160e-04      7.462e-04 ± 2.608e-04   \n",
       "5         6.765e-06 ± 9.264e-06      0.000e+00 ± 0.000e+00   \n",
       "6         5.500e-05 ± 1.206e-05      5.930e-06 ± 4.840e-06   \n",
       "7         3.564e-04 ± 1.093e-04    1.0761e-04 ± 2.2528e-05   \n",
       "8         0.000e+00 ± 0.000e+00      0.000e+00 ± 0.000e+00   \n",
       "9         3.471e-06 ± 1.054e-06      2.937e-07 ± 3.597e-07   \n",
       "10        0.000e+00 ± 0.000e+00      0.000e+00 ± 0.000e+00   \n",
       "11        0.000e+00 ± 0.000e+00      0.000e+00 ± 0.000e+00   \n",
       "12        0.000e+00 ± 0.000e+00      0.000e+00 ± 0.000e+00   \n",
       "13        5.694e-09 ± 7.797e-09      2.842e-09 ± 6.354e-09   \n",
       "14        0.000e+00 ± 0.000e+00      0.000e+00 ± 0.000e+00   \n",
       "15        2.016e-05 ± 2.476e-05      4.017e-06 ± 8.982e-06   \n",
       "16          6.40e-11 ± 1.43e-10      0.000e+00 ± 0.000e+00   \n",
       "17        0.000e+00 ± 0.000e+00      0.000e+00 ± 0.000e+00   \n",
       "18        2.520e-03 ± 5.636e-03      0.000e+00 ± 0.000e+00   \n",
       "19        0.000e+00 ± 0.000e+00      0.000e+00 ± 0.000e+00   \n",
       "20      1.6624e-05 ± 2.5078e-06    2.9102e-06 ± 9.7174e-07   \n",
       "21        6.365e-09 ± 1.391e-09    1.1025e-09 ± 1.9315e-10   \n",
       "22        0.000e+00 ± 0.000e+00      0.000e+00 ± 0.000e+00   \n",
       "23        2.812e-05 ± 2.278e-05      4.000e-06 ± 8.943e-06   \n",
       "24        3.178e-02 ± 1.330e-02      8.422e-03 ± 6.093e-03   \n",
       "25        5.187e-05 ± 1.944e-05        8.66e-06 ± 1.94e-05   \n",
       "26        1.734e-05 ± 2.374e-05      0.000e+00 ± 0.000e+00   \n",
       "27        0.000e+00 ± 0.000e+00      0.000e+00 ± 0.000e+00   \n",
       "28        2.633e-05 ± 5.888e-05      0.000e+00 ± 0.000e+00   \n",
       "29  1.070410e+00 ± 3.172198e-03  5.40933e-01 ± 6.61864e-03   \n",
       "30        3.897e-02 ± 1.333e-02      9.302e-03 ± 6.146e-03   \n",
       "31        3.120e+01 ± 1.441e+01      1.625e+02 ± 2.390e+02   \n",
       "\n",
       "                      Process  \n",
       "0                   BKG:ff_HW  \n",
       "1                   BKG:ff_HZ  \n",
       "2                  BKG:ff_Hff  \n",
       "3                 BKG:ff_Hff2  \n",
       "4               BKG:ff_WW_bkg  \n",
       "5               BKG:ff_ZW_bkg  \n",
       "6           BKG:ff_gmZgmZ_bkg  \n",
       "7               BKG:ffbar_Wgm  \n",
       "8                   BKG:gg_Hg  \n",
       "9               BKG:gg_Httbar  \n",
       "10               BKG:gg_bbbar  \n",
       "11               BKG:gg_ccbar  \n",
       "12                  BKG:gg_gg  \n",
       "13        BKG:gg_hbb_hadronic  \n",
       "14               BKG:gg_qqbar  \n",
       "15  BKG:gg_ttbar_bkg_hadronic  \n",
       "16                  BKG:qg_Hq  \n",
       "17             BKG:qg_Hq_loop  \n",
       "18         BKG:qg_Wj_hadronic  \n",
       "19                  BKG:qg_qg  \n",
       "20              BKG:qq_Httbar  \n",
       "21        BKG:qq_hbb_hadronic  \n",
       "22                  BKG:qq_qq  \n",
       "23  BKG:qq_ttbar_bkg_hadronic  \n",
       "24      BKG:qqbar_Wj_hadronic  \n",
       "25            BKG:qqbar_bbbar  \n",
       "26            BKG:qqbar_ccbar  \n",
       "27               BKG:qqbar_gg  \n",
       "28         BKG:qqbar_qqbarNew  \n",
       "29                    SIG:Suu  \n",
       "30                    BKG:sum  \n",
       "31                        S/B  "
      ]
     },
     "execution_count": 15,
     "metadata": {},
     "output_type": "execute_result"
    }
   ],
   "source": [
    "df_6j"
   ]
  },
  {
   "cell_type": "code",
   "execution_count": null,
   "metadata": {},
   "outputs": [],
   "source": []
  }
 ],
 "metadata": {
  "kernelspec": {
   "display_name": ".venv",
   "language": "python",
   "name": "python3"
  },
  "language_info": {
   "codemirror_mode": {
    "name": "ipython",
    "version": 3
   },
   "file_extension": ".py",
   "mimetype": "text/x-python",
   "name": "python",
   "nbconvert_exporter": "python",
   "pygments_lexer": "ipython3",
   "version": "3.11.5"
  }
 },
 "nbformat": 4,
 "nbformat_minor": 2
}
