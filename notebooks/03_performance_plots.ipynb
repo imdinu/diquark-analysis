{
 "cells": [
  {
   "cell_type": "code",
   "execution_count": null,
   "metadata": {},
   "outputs": [],
   "source": [
    "import os\n",
    "\n",
    "import pendulum\n",
    "import joblib\n",
    "import pandas as pd\n",
    "import numpy as np\n",
    "from tqdm import tqdm\n",
    "\n",
    "import plotly.express as px\n",
    "import plotly.graph_objects as go\n",
    "\n",
    "from sklearn.utils import shuffle\n",
    "from sklearn.utils import resample\n",
    "\n",
    "from sklearn.ensemble import GradientBoostingClassifier, RandomForestClassifier\n",
    "from sklearn.model_selection import cross_validate, cross_val_score\n",
    "from sklearn.utils.class_weight import compute_class_weight\n",
    "from sklearn.metrics import (\n",
    "    auc,\n",
    "    roc_curve,\n",
    "    precision_recall_curve,\n",
    ")\n",
    "\n",
    "from diquark import CROSS_SECTION_DICT\n",
    "from diquark.plotting import make_histogram, make_histogram_with_double_gaussian_fit\n",
    "from diquark.helpers import mass_score_cut\n",
    "\n",
    "import tensorflow as tf\n",
    "\n",
    "tfkl = tf.keras.layers\n",
    "tfk = tf.keras\n",
    "\n",
    "if os.getcwd().split(\"/\")[-1] == \"notebooks\":\n",
    "    os.chdir(\"..\")"
   ]
  },
  {
   "cell_type": "code",
   "execution_count": null,
   "metadata": {},
   "outputs": [],
   "source": [
    "# get the latest workdir\n",
    "workdir = sorted(os.listdir(\"models\"))[-1]\n",
    "workdir = os.path.join(\"models\", workdir)"
   ]
  },
  {
   "cell_type": "markdown",
   "metadata": {},
   "source": [
    "## Load Data"
   ]
  },
  {
   "cell_type": "code",
   "execution_count": null,
   "metadata": {},
   "outputs": [],
   "source": [
    "df_train = pd.read_parquet(f\"{workdir}/train.parquet\")\n",
    "df_test = pd.read_parquet(f\"{workdir}/test.parquet\")"
   ]
  },
  {
   "cell_type": "code",
   "execution_count": null,
   "metadata": {},
   "outputs": [],
   "source": [
    "test_df = df_test[[\"Truth\", \"inv_mass\"]].reset_index(drop=True)\n",
    "train_df = df_train[[\"Truth\", \"inv_mass\"]].reset_index(drop=True)\n",
    "\n",
    "m6j_test = joblib.load(f\"{workdir}/m6j_test.data.joblib\")\n",
    "m6j_train = joblib.load(f\"{workdir}/m6j_train.data.joblib\")\n",
    "\n",
    "data_npz = np.load(f\"{workdir}/data.npz\")\n",
    "x_train, y_train, x_test, y_test = (\n",
    "    data_npz[\"x_train\"],\n",
    "    data_npz[\"y_train\"],\n",
    "    data_npz[\"x_test\"],\n",
    "    data_npz[\"y_test\"],\n",
    ")"
   ]
  },
  {
   "cell_type": "markdown",
   "metadata": {},
   "source": [
    "## Load Models"
   ]
  },
  {
   "cell_type": "code",
   "execution_count": null,
   "metadata": {},
   "outputs": [],
   "source": [
    "model = tfk.models.load_model(f\"{workdir}/model.keras\")\n",
    "rf_clf = joblib.load(f\"{workdir}/rfc.joblib\")\n",
    "gb_clf = joblib.load(f\"{workdir}/gbc.joblib\")"
   ]
  },
  {
   "cell_type": "markdown",
   "metadata": {},
   "source": [
    "# Inference and Visualization"
   ]
  },
  {
   "cell_type": "code",
   "execution_count": null,
   "metadata": {},
   "outputs": [],
   "source": [
    "y_pred_nn = model.predict(x_test)\n",
    "y_pred_gb = gb_clf.predict_proba(x_test)[:, 1]\n",
    "y_pred_rf = rf_clf.predict_proba(x_test)[:, 1]\n",
    "\n",
    "sample_weights = [CROSS_SECTION_DICT[label] for label in test_df[\"Truth\"]]"
   ]
  },
  {
   "cell_type": "code",
   "execution_count": null,
   "metadata": {},
   "outputs": [],
   "source": [
    "# For the first model\n",
    "precision_nn, recall_nn, thresholds_nn = precision_recall_curve(y_test, y_pred_nn)\n",
    "# precision_nn, recall_nn, thresholds_nn = precision_recall_curve(y_test, y_pred_nn, sample_weight=sample_weights)\n",
    "pr_auc_nn = auc(recall_nn, precision_nn)\n",
    "\n",
    "# For the Gradient Boosting model\n",
    "precision_gb, recall_gb, thresholds_gb = precision_recall_curve(y_test, y_pred_gb)\n",
    "# precision_gb, recall_gb, thresholds_gb = precision_recall_curve(y_test, y_pred_gb, sample_weight=sample_weights)\n",
    "pr_auc_gb = auc(recall_gb, precision_gb)\n",
    "\n",
    "# For the Random Forest model\n",
    "precision_rf, recall_rf, thresholds_rf = precision_recall_curve(y_test, y_pred_rf)\n",
    "# precision_rf, recall_rf, thresholds_rf = precision_recall_curve(y_test, y_pred_rf, sample_weight=sample_weights)\n",
    "pr_auc_rf = auc(recall_rf, precision_rf)"
   ]
  },
  {
   "cell_type": "code",
   "execution_count": null,
   "metadata": {},
   "outputs": [],
   "source": [
    "fig = go.Figure()\n",
    "fig.add_trace(\n",
    "    go.Scatter(\n",
    "        x=recall_gb,\n",
    "        y=precision_gb,\n",
    "        customdata=thresholds_gb,\n",
    "        hovertemplate=\"Threshold=%{customdata}<br>Recall=%{x}<br>Precision=%{y}\",\n",
    "        mode=\"lines\",\n",
    "        name=f\"BDT - AUC={pr_auc_gb:.3f}\",\n",
    "    )\n",
    ")\n",
    "fig.add_trace(\n",
    "    go.Scatter(\n",
    "        x=recall_rf,\n",
    "        y=precision_rf,\n",
    "        customdata=thresholds_rf,\n",
    "        hovertemplate=\"Threshold=%{customdata}<br>Recall=%{x}<br>Precision=%{y}\",\n",
    "        mode=\"lines\",\n",
    "        name=f\"RF - AUC={pr_auc_rf:.3f}\",\n",
    "    )\n",
    ")\n",
    "\n",
    "fig.add_trace(\n",
    "    go.Scatter(\n",
    "        x=recall_nn,\n",
    "        y=precision_nn,\n",
    "        customdata=thresholds_nn,\n",
    "        hovertemplate=\"Threshold=%{customdata}<br>Recall=%{x}<br>Precision=%{y}\",\n",
    "        mode=\"lines\",\n",
    "        name=f\"NN - AUC={pr_auc_nn:.3f}\",\n",
    "    )\n",
    ")\n",
    "fig.update_layout(\n",
    "    title=\"Cross-Section Weighted Precision-Recall Curves\",\n",
    "    xaxis_title=\"Recall\",\n",
    "    yaxis_title=\"Precision\",\n",
    "    width=1200 * (2 / 3),\n",
    "    height=800 * (2 / 3),\n",
    ")\n",
    "fig.update_layout(legend=dict(orientation=\"h\", yanchor=\"bottom\", y=1.02, xanchor=\"right\", x=1))\n",
    "fig.write_image(f\"{workdir}/plots/PR-curve-w.pdf\")\n",
    "fig.show()"
   ]
  },
  {
   "cell_type": "code",
   "execution_count": null,
   "metadata": {},
   "outputs": [],
   "source": [
    "scores_test_rf = {}\n",
    "for key in test_df[\"Truth\"].unique():\n",
    "    scores_test_rf[key] = y_pred_rf.flatten()[test_df[test_df[\"Truth\"] == key].index]"
   ]
  },
  {
   "cell_type": "code",
   "execution_count": null,
   "metadata": {},
   "outputs": [],
   "source": [
    "fig = make_histogram(scores_test_rf, 50, clip_top_prc=100, clip_bottom_prc=0, cross=None)\n",
    "fig.update_layout(\n",
    "    title_text=\"Data Sample Content by Model Output Cut\",\n",
    "    barmode=\"stack\",\n",
    "    yaxis_type=\"log\",\n",
    "    xaxis_title=\"RF Output\",\n",
    "    yaxis_title=\"Probability Density\",\n",
    "    width=1600 * (5 / 6),\n",
    "    height=900 * (5 / 6),\n",
    ")\n",
    "fig.write_image(f\"{workdir}/plots/RF-output.pdf\")\n",
    "fig.show()"
   ]
  },
  {
   "cell_type": "code",
   "execution_count": null,
   "metadata": {},
   "outputs": [],
   "source": [
    "fig = make_histogram_with_double_gaussian_fit(\n",
    "    mass_score_cut(m6j_test, scores_test_rf, 0.5, prc=False), 20, clip_top_prc=100\n",
    ")\n",
    "# fig = make_histogram(mass_score_cut(m6j_test, scores_test_rf, 0.95, prc=False), 20, clip_top_prc=100)\n",
    "fig.update_layout(\n",
    "    title=\"6-jet Mass\",\n",
    "    xaxis_title=\"Invariant Mass [GeV]\",\n",
    "    yaxis_title_text=\"count x sigma\",\n",
    "    # yaxis_type=\"log\",\n",
    "    barmode=\"stack\",\n",
    "    bargap=0,\n",
    "    width=1600 * (2 / 3),\n",
    "    height=1400 * (2 / 3),\n",
    ")\n",
    "fig.update_legends(\n",
    "    title_text=\"\",\n",
    "    itemsizing=\"constant\",\n",
    "    yanchor=\"top\",\n",
    "    y=0.99,\n",
    "    xanchor=\"left\",\n",
    "    x=0.01,\n",
    "    font=dict(size=16),\n",
    ")\n",
    "# fig.write_image(f\"{workdir}/plots/6jet_mass_RF_cut_05_fit.pdf\")\n",
    "fig.show()"
   ]
  },
  {
   "cell_type": "code",
   "execution_count": null,
   "metadata": {},
   "outputs": [],
   "source": []
  }
 ],
 "metadata": {
  "kernelspec": {
   "display_name": ".venv",
   "language": "python",
   "name": "python3"
  },
  "language_info": {
   "codemirror_mode": {
    "name": "ipython",
    "version": 3
   },
   "file_extension": ".py",
   "mimetype": "text/x-python",
   "name": "python",
   "nbconvert_exporter": "python",
   "pygments_lexer": "ipython3",
   "version": "3.11.5"
  }
 },
 "nbformat": 4,
 "nbformat_minor": 2
}
